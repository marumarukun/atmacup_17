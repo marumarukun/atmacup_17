{
 "cells": [
  {
   "cell_type": "code",
   "execution_count": 29,
   "metadata": {},
   "outputs": [
    {
     "name": "stdout",
     "output_type": "stream",
     "text": [
      "bert:\n",
      "  params:\n",
      "    model_path: microsoft/deberta-v3-large\n",
      "    metric: auc\n",
      "    target_col_class_num: 2\n",
      "    max_length: 192\n",
      "    fp16: true\n",
      "    learning_rate: 2.0e-05\n",
      "    epochs: 3\n",
      "    per_device_train_batch_size: 8\n",
      "    per_device_eval_batch_size: 16\n",
      "    steps: 50\n",
      "    lr_scheduler_type: cosine\n",
      "    weight_decay: 0.01\n",
      "exp_number: '012'\n",
      "run_name: base\n",
      "data:\n",
      "  data_root: ../../data\n",
      "  results_root: ../../results\n",
      "  train_path: ../../data/train.csv\n",
      "  cloth_path: ../../data/clothing_master.csv\n",
      "  test_path: ../../data/test.csv\n",
      "  sample_submission_path: ../../data/sample_submission.csv\n",
      "  results_dir: ../../results/012/base\n",
      "seed: 42\n",
      "n_splits: 5\n",
      "target: Recommended IND\n",
      "\n"
     ]
    }
   ],
   "source": [
    "import os\n",
    "import time\n",
    "import warnings\n",
    "from pathlib import Path\n",
    "\n",
    "import matplotlib.pyplot as plt\n",
    "import numpy as np\n",
    "import pandas as pd\n",
    "import polars as pl\n",
    "import seaborn as sns\n",
    "import torch\n",
    "import torch.nn.functional as F\n",
    "from datasets import Dataset\n",
    "from hydra import compose, initialize\n",
    "from omegaconf import OmegaConf\n",
    "from sklearn.metrics import roc_auc_score\n",
    "from sklearn.model_selection import StratifiedKFold\n",
    "from src.seed import seed_everything\n",
    "from torch import nn\n",
    "from torch.utils.data import DataLoader\n",
    "from transformers import (\n",
    "    AutoConfig,\n",
    "    AutoModel,\n",
    "    AutoModelForSequenceClassification,\n",
    "    AutoTokenizer,\n",
    "    DataCollatorWithPadding,\n",
    "    Trainer,\n",
    "    TrainingArguments,\n",
    ")\n",
    "\n",
    "warnings.filterwarnings(\"ignore\")\n",
    "\n",
    "\n",
    "with initialize(config_path=\"config\", version_base=None):\n",
    "    cfg = compose(config_name=\"config\")\n",
    "    cfg.exp_number = Path().resolve().name\n",
    "\n",
    "print(OmegaConf.to_yaml(cfg, resolve=True))\n",
    "\n",
    "seed_everything(cfg.seed)\n"
   ]
  },
  {
   "cell_type": "markdown",
   "metadata": {},
   "source": [
    "### exp011をベースに下記変更\n",
    "- Title, Review Text以外Age, Class Name, Positive Feedback Countのカラムも使用\n",
    "- learning_rateを1e-5 --> 2e-5に変更\n",
    "- stepsを25 --> 50に変更\n",
    "- Smooth Focal Lossを使用 --> smoothing=0にする（smoothing=0.1はあまり効果がなかったと思う）\n",
    "  - https://www.kaggle.com/c/nbme-score-clinical-patient-notes/discussion/322799#1781528 を参考に実装"
   ]
  },
  {
   "cell_type": "markdown",
   "metadata": {},
   "source": [
    "### データの準備\n"
   ]
  },
  {
   "cell_type": "code",
   "execution_count": 2,
   "metadata": {},
   "outputs": [],
   "source": [
    "train_df = pl.read_csv(cfg.data.train_path, try_parse_dates=True)\n",
    "test_df = pl.read_csv(cfg.data.test_path, try_parse_dates=True)\n",
    "cloth_df = pl.read_csv(cfg.data.cloth_path, try_parse_dates=True)\n",
    "\n",
    "train_df = train_df.join(cloth_df, on=\"Clothing ID\", how=\"left\")\n",
    "test_df = test_df.join(cloth_df, on=\"Clothing ID\", how=\"left\")\n",
    "\n",
    "skf = StratifiedKFold(n_splits=cfg.n_splits, shuffle=True, random_state=cfg.seed)\n"
   ]
  },
  {
   "cell_type": "code",
   "execution_count": 3,
   "metadata": {},
   "outputs": [
    {
     "data": {
      "text/html": [
       "<div><style>\n",
       ".dataframe > thead > tr,\n",
       ".dataframe > tbody > tr {\n",
       "  text-align: right;\n",
       "  white-space: pre-wrap;\n",
       "}\n",
       "</style>\n",
       "<small>shape: (5, 10)</small><table border=\"1\" class=\"dataframe\"><thead><tr><th>Clothing ID</th><th>Age</th><th>Title</th><th>Review Text</th><th>Rating</th><th>Recommended IND</th><th>Positive Feedback Count</th><th>Division Name</th><th>Department Name</th><th>Class Name</th></tr><tr><td>i64</td><td>i64</td><td>str</td><td>str</td><td>i64</td><td>i64</td><td>i64</td><td>str</td><td>str</td><td>str</td></tr></thead><tbody><tr><td>0</td><td>25</td><td>&quot;3-season skirt!&quot;</td><td>&quot;Adorable, well-made skirt! lin…</td><td>5</td><td>1</td><td>4</td><td>&quot;General&quot;</td><td>&quot;Bottoms&quot;</td><td>&quot;Skirts&quot;</td></tr><tr><td>0</td><td>39</td><td>&quot;Very cute&quot;</td><td>&quot;Love the asymmetrical hem. wai…</td><td>5</td><td>1</td><td>0</td><td>&quot;General&quot;</td><td>&quot;Bottoms&quot;</td><td>&quot;Skirts&quot;</td></tr><tr><td>0</td><td>42</td><td>&quot;Beautiful! fruns small for typ…</td><td>&quot;I love this skirt! i wasn&#x27;t su…</td><td>5</td><td>1</td><td>5</td><td>&quot;General&quot;</td><td>&quot;Bottoms&quot;</td><td>&quot;Skirts&quot;</td></tr><tr><td>0</td><td>45</td><td>null</td><td>&quot;I was really pleased with this…</td><td>5</td><td>1</td><td>9</td><td>&quot;General&quot;</td><td>&quot;Bottoms&quot;</td><td>&quot;Skirts&quot;</td></tr><tr><td>0</td><td>57</td><td>&quot;Unique, pretty asymmetric skir…</td><td>&quot;I saw this skirt in retailer s…</td><td>5</td><td>1</td><td>1</td><td>&quot;General&quot;</td><td>&quot;Bottoms&quot;</td><td>&quot;Skirts&quot;</td></tr></tbody></table></div>"
      ],
      "text/plain": [
       "shape: (5, 10)\n",
       "┌─────────────┬─────┬─────────────┬────────────┬───┬────────────┬────────────┬────────────┬────────┐\n",
       "│ Clothing ID ┆ Age ┆ Title       ┆ Review     ┆ … ┆ Positive   ┆ Division   ┆ Department ┆ Class  │\n",
       "│ ---         ┆ --- ┆ ---         ┆ Text       ┆   ┆ Feedback   ┆ Name       ┆ Name       ┆ Name   │\n",
       "│ i64         ┆ i64 ┆ str         ┆ ---        ┆   ┆ Count      ┆ ---        ┆ ---        ┆ ---    │\n",
       "│             ┆     ┆             ┆ str        ┆   ┆ ---        ┆ str        ┆ str        ┆ str    │\n",
       "│             ┆     ┆             ┆            ┆   ┆ i64        ┆            ┆            ┆        │\n",
       "╞═════════════╪═════╪═════════════╪════════════╪═══╪════════════╪════════════╪════════════╪════════╡\n",
       "│ 0           ┆ 25  ┆ 3-season    ┆ Adorable,  ┆ … ┆ 4          ┆ General    ┆ Bottoms    ┆ Skirts │\n",
       "│             ┆     ┆ skirt!      ┆ well-made  ┆   ┆            ┆            ┆            ┆        │\n",
       "│             ┆     ┆             ┆ skirt!     ┆   ┆            ┆            ┆            ┆        │\n",
       "│             ┆     ┆             ┆ lin…       ┆   ┆            ┆            ┆            ┆        │\n",
       "│ 0           ┆ 39  ┆ Very cute   ┆ Love the   ┆ … ┆ 0          ┆ General    ┆ Bottoms    ┆ Skirts │\n",
       "│             ┆     ┆             ┆ asymmetric ┆   ┆            ┆            ┆            ┆        │\n",
       "│             ┆     ┆             ┆ al hem.    ┆   ┆            ┆            ┆            ┆        │\n",
       "│             ┆     ┆             ┆ wai…       ┆   ┆            ┆            ┆            ┆        │\n",
       "│ 0           ┆ 42  ┆ Beautiful!  ┆ I love     ┆ … ┆ 5          ┆ General    ┆ Bottoms    ┆ Skirts │\n",
       "│             ┆     ┆ fruns small ┆ this       ┆   ┆            ┆            ┆            ┆        │\n",
       "│             ┆     ┆ for typ…    ┆ skirt! i   ┆   ┆            ┆            ┆            ┆        │\n",
       "│             ┆     ┆             ┆ wasn't su… ┆   ┆            ┆            ┆            ┆        │\n",
       "│ 0           ┆ 45  ┆ null        ┆ I was      ┆ … ┆ 9          ┆ General    ┆ Bottoms    ┆ Skirts │\n",
       "│             ┆     ┆             ┆ really     ┆   ┆            ┆            ┆            ┆        │\n",
       "│             ┆     ┆             ┆ pleased    ┆   ┆            ┆            ┆            ┆        │\n",
       "│             ┆     ┆             ┆ with this… ┆   ┆            ┆            ┆            ┆        │\n",
       "│ 0           ┆ 57  ┆ Unique,     ┆ I saw this ┆ … ┆ 1          ┆ General    ┆ Bottoms    ┆ Skirts │\n",
       "│             ┆     ┆ pretty      ┆ skirt in   ┆   ┆            ┆            ┆            ┆        │\n",
       "│             ┆     ┆ asymmetric  ┆ retailer   ┆   ┆            ┆            ┆            ┆        │\n",
       "│             ┆     ┆ skir…       ┆ s…         ┆   ┆            ┆            ┆            ┆        │\n",
       "└─────────────┴─────┴─────────────┴────────────┴───┴────────────┴────────────┴────────────┴────────┘"
      ]
     },
     "execution_count": 3,
     "metadata": {},
     "output_type": "execute_result"
    }
   ],
   "source": [
    "train_df.head()\n"
   ]
  },
  {
   "cell_type": "code",
   "execution_count": 4,
   "metadata": {},
   "outputs": [],
   "source": [
    "DEBUG = False\n",
    "\n",
    "if DEBUG:\n",
    "    train_df = train_df.head(1000)\n",
    "\n",
    "\n",
    "def preprocess_text(df: pl.DataFrame) -> pl.DataFrame:\n",
    "    df = df.with_columns(\n",
    "        pl.concat_str(\n",
    "            [\n",
    "                pl.col(\"Age\").fill_null(\"none\"),\n",
    "                pl.lit(\"-Year-Old's Review of \"),\n",
    "                pl.col(\"Class Name\").fill_null(\"none\"),\n",
    "                pl.lit(\" [SEP] \"),\n",
    "                pl.lit(\"TITLE: \"),\n",
    "                pl.col(\"Title\").fill_null(\"none\"),\n",
    "                pl.lit(\" [SEP] \"),\n",
    "                pl.lit(\"Review Text: \"),\n",
    "                pl.col(\"Review Text\").fill_null(\"none\"),\n",
    "                pl.lit(\" [SEP] \"),\n",
    "                pl.lit(\"Positive Feedback Count: \"),\n",
    "                pl.col(\"Positive Feedback Count\").fill_null(\"none\"),\n",
    "            ]\n",
    "        ).alias(\"prompt\")\n",
    "    )\n",
    "    return df\n",
    "\n",
    "\n",
    "train_df = preprocess_text(train_df)\n",
    "test_df = preprocess_text(test_df)\n",
    "\n",
    "train_df = train_df.with_columns(pl.col(cfg.target).cast(pl.Int8).alias(\"labels\"))\n"
   ]
  },
  {
   "cell_type": "code",
   "execution_count": 5,
   "metadata": {},
   "outputs": [
    {
     "data": {
      "text/plain": [
       "\"25-Year-Old's Review of Skirts [SEP] TITLE: 3-season skirt! [SEP] Review Text: Adorable, well-made skirt! lined and very slimming. i had to size up b/c it runs a bit snug around the waist. however, it's worth it b/c this will match many long and short sleeve tops! [SEP] Positive Feedback Count: 4\""
      ]
     },
     "execution_count": 5,
     "metadata": {},
     "output_type": "execute_result"
    }
   ],
   "source": [
    "# prompt例\n",
    "train_df[\"prompt\"][0]\n"
   ]
  },
  {
   "cell_type": "code",
   "execution_count": 6,
   "metadata": {},
   "outputs": [],
   "source": [
    "# tokenizer\n",
    "tokenizer = AutoTokenizer.from_pretrained(cfg.bert.params.model_path)\n",
    "\n",
    "\n",
    "def tokenize(sample):\n",
    "    return tokenizer(sample[\"prompt\"], max_length=cfg.bert.params.max_length, truncation=True)\n"
   ]
  },
  {
   "cell_type": "code",
   "execution_count": 7,
   "metadata": {},
   "outputs": [
    {
     "name": "stdout",
     "output_type": "stream",
     "text": [
      "train_df: 185\n",
      "test_df: 184\n"
     ]
    }
   ],
   "source": [
    "# token長を確認 --> max_length 192で耐えてる\n",
    "print(\n",
    "    f\"train_df: {train_df.select(pl.col('prompt').map_elements(lambda x: len(tokenizer(x)['input_ids']))).max().item()}\"\n",
    ")\n",
    "print(\n",
    "    f\"test_df: {test_df.select(pl.col('prompt').map_elements(lambda x: len(tokenizer(x)['input_ids']))).max().item()}\"\n",
    ")\n"
   ]
  },
  {
   "cell_type": "markdown",
   "metadata": {},
   "source": [
    "### Smoth Focal Loss\n"
   ]
  },
  {
   "cell_type": "code",
   "execution_count": 8,
   "metadata": {},
   "outputs": [],
   "source": [
    "class FocalLoss(nn.Module):\n",
    "    def __init__(self, reduction=\"none\", alpha=1, gamma=2):\n",
    "        super().__init__()\n",
    "        self.reduction = reduction\n",
    "        self.alpha = alpha\n",
    "        self.gamma = gamma\n",
    "\n",
    "    def forward(self, inputs, targets):\n",
    "        bce_loss = F.binary_cross_entropy_with_logits(inputs, targets, reduction=\"none\")\n",
    "        pt = torch.exp(-bce_loss)\n",
    "        loss = self.alpha * (1.0 - pt) ** self.gamma * bce_loss\n",
    "        if self.reduction == \"none\":\n",
    "            loss = loss\n",
    "        elif self.reduction == \"sum\":\n",
    "            loss = loss.sum()\n",
    "        elif self.reduction == \"mean\":\n",
    "            loss = loss.mean()\n",
    "        return loss\n",
    "\n",
    "\n",
    "class SmoothFocalLoss(nn.Module):\n",
    "    def __init__(self, reduction=\"mean\", alpha=1, gamma=2, smoothing=0.0):\n",
    "        super().__init__()\n",
    "        self.reduction = reduction\n",
    "        self.focal_loss = FocalLoss(reduction=\"none\", alpha=alpha, gamma=gamma)\n",
    "        self.smoothing = smoothing\n",
    "\n",
    "    @staticmethod\n",
    "    def _smooth(targets: torch.Tensor, smoothing=0.0):\n",
    "        assert 0 <= smoothing < 1\n",
    "        with torch.no_grad():\n",
    "            targets = targets * (1.0 - smoothing) + 0.5 * smoothing\n",
    "        return targets\n",
    "\n",
    "    def forward(self, inputs, targets):\n",
    "        targets = SmoothFocalLoss._smooth(targets, self.smoothing)\n",
    "        loss = self.focal_loss(inputs, targets)\n",
    "        if self.reduction == \"none\":\n",
    "            loss = loss\n",
    "        elif self.reduction == \"sum\":\n",
    "            loss = loss.sum()\n",
    "        elif self.reduction == \"mean\":\n",
    "            loss = loss.mean()\n",
    "        return loss\n"
   ]
  },
  {
   "cell_type": "code",
   "execution_count": 9,
   "metadata": {},
   "outputs": [],
   "source": [
    "class CustomTrainer(Trainer):\n",
    "    def __init__(self, loss_fn=None, *args, **kwargs):\n",
    "        super().__init__(*args, **kwargs)\n",
    "        self.loss_fn = loss_fn\n",
    "\n",
    "    def compute_loss(self, model, inputs, return_outputs=False):\n",
    "        labels = inputs.pop(\"labels\")\n",
    "        outputs = model(**inputs)\n",
    "        logits = outputs.logits\n",
    "        if self.loss_fn is None:\n",
    "            loss = F.cross_entropy(logits.view(-1, self.model.config.num_labels), labels.view(-1))\n",
    "        else:\n",
    "            # ロジットとラベルの形状を調整\n",
    "            logits = logits[:, 1]  # ポジティブクラスのロジットのみを使用\n",
    "            labels = labels.float()\n",
    "            loss = self.loss_fn(logits, labels)\n",
    "        return (loss, outputs) if return_outputs else loss\n",
    "\n",
    "\n",
    "# Smooth Focal Lossのインスタンスを作成\n",
    "loss_fn = SmoothFocalLoss(alpha=1, gamma=2, smoothing=0)  # 結局gammaしか効かしてない\n"
   ]
  },
  {
   "cell_type": "markdown",
   "metadata": {},
   "source": [
    "### 学習"
   ]
  },
  {
   "cell_type": "code",
   "execution_count": 10,
   "metadata": {},
   "outputs": [
    {
     "name": "stderr",
     "output_type": "stream",
     "text": [
      "Some weights of DebertaV2ForSequenceClassification were not initialized from the model checkpoint at microsoft/deberta-v3-large and are newly initialized: ['classifier.bias', 'classifier.weight', 'pooler.dense.bias', 'pooler.dense.weight']\n",
      "You should probably TRAIN this model on a down-stream task to be able to use it for predictions and inference.\n"
     ]
    },
    {
     "data": {
      "application/vnd.jupyter.widget-view+json": {
       "model_id": "ed57f79a0966407ca51acacd22c6bd2f",
       "version_major": 2,
       "version_minor": 0
      },
      "text/plain": [
       "Map:   0%|          | 0/8000 [00:00<?, ? examples/s]"
      ]
     },
     "metadata": {},
     "output_type": "display_data"
    },
    {
     "data": {
      "application/vnd.jupyter.widget-view+json": {
       "model_id": "bae8a9fd3062428ab23268a790b6844d",
       "version_major": 2,
       "version_minor": 0
      },
      "text/plain": [
       "Map:   0%|          | 0/2000 [00:00<?, ? examples/s]"
      ]
     },
     "metadata": {},
     "output_type": "display_data"
    },
    {
     "data": {
      "text/html": [
       "\n",
       "    <div>\n",
       "      \n",
       "      <progress value='750' max='750' style='width:300px; height:20px; vertical-align: middle;'></progress>\n",
       "      [750/750 19:09, Epoch 3/3]\n",
       "    </div>\n",
       "    <table border=\"1\" class=\"dataframe\">\n",
       "  <thead>\n",
       " <tr style=\"text-align: left;\">\n",
       "      <th>Step</th>\n",
       "      <th>Training Loss</th>\n",
       "      <th>Validation Loss</th>\n",
       "      <th>Auc</th>\n",
       "    </tr>\n",
       "  </thead>\n",
       "  <tbody>\n",
       "    <tr>\n",
       "      <td>50</td>\n",
       "      <td>0.154400</td>\n",
       "      <td>0.115337</td>\n",
       "      <td>0.777087</td>\n",
       "    </tr>\n",
       "    <tr>\n",
       "      <td>100</td>\n",
       "      <td>0.075600</td>\n",
       "      <td>0.081926</td>\n",
       "      <td>0.918364</td>\n",
       "    </tr>\n",
       "    <tr>\n",
       "      <td>150</td>\n",
       "      <td>0.056300</td>\n",
       "      <td>0.049485</td>\n",
       "      <td>0.966710</td>\n",
       "    </tr>\n",
       "    <tr>\n",
       "      <td>200</td>\n",
       "      <td>0.056600</td>\n",
       "      <td>0.058839</td>\n",
       "      <td>0.967298</td>\n",
       "    </tr>\n",
       "    <tr>\n",
       "      <td>250</td>\n",
       "      <td>0.052600</td>\n",
       "      <td>0.046742</td>\n",
       "      <td>0.971510</td>\n",
       "    </tr>\n",
       "    <tr>\n",
       "      <td>300</td>\n",
       "      <td>0.041300</td>\n",
       "      <td>0.043498</td>\n",
       "      <td>0.973031</td>\n",
       "    </tr>\n",
       "    <tr>\n",
       "      <td>350</td>\n",
       "      <td>0.033000</td>\n",
       "      <td>0.050944</td>\n",
       "      <td>0.970073</td>\n",
       "    </tr>\n",
       "    <tr>\n",
       "      <td>400</td>\n",
       "      <td>0.038400</td>\n",
       "      <td>0.038271</td>\n",
       "      <td>0.975470</td>\n",
       "    </tr>\n",
       "    <tr>\n",
       "      <td>450</td>\n",
       "      <td>0.041600</td>\n",
       "      <td>0.042089</td>\n",
       "      <td>0.975527</td>\n",
       "    </tr>\n",
       "    <tr>\n",
       "      <td>500</td>\n",
       "      <td>0.047400</td>\n",
       "      <td>0.038747</td>\n",
       "      <td>0.976048</td>\n",
       "    </tr>\n",
       "    <tr>\n",
       "      <td>550</td>\n",
       "      <td>0.032500</td>\n",
       "      <td>0.040460</td>\n",
       "      <td>0.976145</td>\n",
       "    </tr>\n",
       "    <tr>\n",
       "      <td>600</td>\n",
       "      <td>0.024900</td>\n",
       "      <td>0.044369</td>\n",
       "      <td>0.975395</td>\n",
       "    </tr>\n",
       "    <tr>\n",
       "      <td>650</td>\n",
       "      <td>0.020300</td>\n",
       "      <td>0.048403</td>\n",
       "      <td>0.974733</td>\n",
       "    </tr>\n",
       "    <tr>\n",
       "      <td>700</td>\n",
       "      <td>0.028600</td>\n",
       "      <td>0.045680</td>\n",
       "      <td>0.975396</td>\n",
       "    </tr>\n",
       "    <tr>\n",
       "      <td>750</td>\n",
       "      <td>0.022200</td>\n",
       "      <td>0.045644</td>\n",
       "      <td>0.975415</td>\n",
       "    </tr>\n",
       "  </tbody>\n",
       "</table><p>"
      ],
      "text/plain": [
       "<IPython.core.display.HTML object>"
      ]
     },
     "metadata": {},
     "output_type": "display_data"
    },
    {
     "data": {
      "text/html": [],
      "text/plain": [
       "<IPython.core.display.HTML object>"
      ]
     },
     "metadata": {},
     "output_type": "display_data"
    },
    {
     "name": "stderr",
     "output_type": "stream",
     "text": [
      "Some weights of DebertaV2ForSequenceClassification were not initialized from the model checkpoint at microsoft/deberta-v3-large and are newly initialized: ['classifier.bias', 'classifier.weight', 'pooler.dense.bias', 'pooler.dense.weight']\n",
      "You should probably TRAIN this model on a down-stream task to be able to use it for predictions and inference.\n"
     ]
    },
    {
     "data": {
      "application/vnd.jupyter.widget-view+json": {
       "model_id": "6bc4b5d3de2c4367a822a6c0680b3410",
       "version_major": 2,
       "version_minor": 0
      },
      "text/plain": [
       "Map:   0%|          | 0/8000 [00:00<?, ? examples/s]"
      ]
     },
     "metadata": {},
     "output_type": "display_data"
    },
    {
     "data": {
      "application/vnd.jupyter.widget-view+json": {
       "model_id": "7e6b532fb5e0443d80c1329267f59ee9",
       "version_major": 2,
       "version_minor": 0
      },
      "text/plain": [
       "Map:   0%|          | 0/2000 [00:00<?, ? examples/s]"
      ]
     },
     "metadata": {},
     "output_type": "display_data"
    },
    {
     "data": {
      "text/html": [
       "\n",
       "    <div>\n",
       "      \n",
       "      <progress value='750' max='750' style='width:300px; height:20px; vertical-align: middle;'></progress>\n",
       "      [750/750 17:44, Epoch 3/3]\n",
       "    </div>\n",
       "    <table border=\"1\" class=\"dataframe\">\n",
       "  <thead>\n",
       " <tr style=\"text-align: left;\">\n",
       "      <th>Step</th>\n",
       "      <th>Training Loss</th>\n",
       "      <th>Validation Loss</th>\n",
       "      <th>Auc</th>\n",
       "    </tr>\n",
       "  </thead>\n",
       "  <tbody>\n",
       "    <tr>\n",
       "      <td>50</td>\n",
       "      <td>0.154200</td>\n",
       "      <td>0.110153</td>\n",
       "      <td>0.872783</td>\n",
       "    </tr>\n",
       "    <tr>\n",
       "      <td>100</td>\n",
       "      <td>0.075400</td>\n",
       "      <td>0.056047</td>\n",
       "      <td>0.961213</td>\n",
       "    </tr>\n",
       "    <tr>\n",
       "      <td>150</td>\n",
       "      <td>0.063400</td>\n",
       "      <td>0.050880</td>\n",
       "      <td>0.966813</td>\n",
       "    </tr>\n",
       "    <tr>\n",
       "      <td>200</td>\n",
       "      <td>0.053300</td>\n",
       "      <td>0.049276</td>\n",
       "      <td>0.973198</td>\n",
       "    </tr>\n",
       "    <tr>\n",
       "      <td>250</td>\n",
       "      <td>0.047700</td>\n",
       "      <td>0.047934</td>\n",
       "      <td>0.969970</td>\n",
       "    </tr>\n",
       "    <tr>\n",
       "      <td>300</td>\n",
       "      <td>0.044200</td>\n",
       "      <td>0.042629</td>\n",
       "      <td>0.971142</td>\n",
       "    </tr>\n",
       "    <tr>\n",
       "      <td>350</td>\n",
       "      <td>0.038400</td>\n",
       "      <td>0.042911</td>\n",
       "      <td>0.973078</td>\n",
       "    </tr>\n",
       "    <tr>\n",
       "      <td>400</td>\n",
       "      <td>0.040600</td>\n",
       "      <td>0.044638</td>\n",
       "      <td>0.972246</td>\n",
       "    </tr>\n",
       "    <tr>\n",
       "      <td>450</td>\n",
       "      <td>0.037800</td>\n",
       "      <td>0.045818</td>\n",
       "      <td>0.972880</td>\n",
       "    </tr>\n",
       "    <tr>\n",
       "      <td>500</td>\n",
       "      <td>0.032000</td>\n",
       "      <td>0.046240</td>\n",
       "      <td>0.973105</td>\n",
       "    </tr>\n",
       "    <tr>\n",
       "      <td>550</td>\n",
       "      <td>0.023800</td>\n",
       "      <td>0.058153</td>\n",
       "      <td>0.969804</td>\n",
       "    </tr>\n",
       "    <tr>\n",
       "      <td>600</td>\n",
       "      <td>0.023900</td>\n",
       "      <td>0.056826</td>\n",
       "      <td>0.970250</td>\n",
       "    </tr>\n",
       "    <tr>\n",
       "      <td>650</td>\n",
       "      <td>0.021500</td>\n",
       "      <td>0.059600</td>\n",
       "      <td>0.968229</td>\n",
       "    </tr>\n",
       "    <tr>\n",
       "      <td>700</td>\n",
       "      <td>0.021900</td>\n",
       "      <td>0.053859</td>\n",
       "      <td>0.969985</td>\n",
       "    </tr>\n",
       "    <tr>\n",
       "      <td>750</td>\n",
       "      <td>0.022100</td>\n",
       "      <td>0.054017</td>\n",
       "      <td>0.969888</td>\n",
       "    </tr>\n",
       "  </tbody>\n",
       "</table><p>"
      ],
      "text/plain": [
       "<IPython.core.display.HTML object>"
      ]
     },
     "metadata": {},
     "output_type": "display_data"
    },
    {
     "data": {
      "text/html": [],
      "text/plain": [
       "<IPython.core.display.HTML object>"
      ]
     },
     "metadata": {},
     "output_type": "display_data"
    },
    {
     "name": "stderr",
     "output_type": "stream",
     "text": [
      "Some weights of DebertaV2ForSequenceClassification were not initialized from the model checkpoint at microsoft/deberta-v3-large and are newly initialized: ['classifier.bias', 'classifier.weight', 'pooler.dense.bias', 'pooler.dense.weight']\n",
      "You should probably TRAIN this model on a down-stream task to be able to use it for predictions and inference.\n"
     ]
    },
    {
     "data": {
      "application/vnd.jupyter.widget-view+json": {
       "model_id": "2234d3d4c7cc4d89bbbdf8e0d9386547",
       "version_major": 2,
       "version_minor": 0
      },
      "text/plain": [
       "Map:   0%|          | 0/8000 [00:00<?, ? examples/s]"
      ]
     },
     "metadata": {},
     "output_type": "display_data"
    },
    {
     "data": {
      "application/vnd.jupyter.widget-view+json": {
       "model_id": "95096a625c4541d1981ca8ad118603d0",
       "version_major": 2,
       "version_minor": 0
      },
      "text/plain": [
       "Map:   0%|          | 0/2000 [00:00<?, ? examples/s]"
      ]
     },
     "metadata": {},
     "output_type": "display_data"
    },
    {
     "data": {
      "text/html": [
       "\n",
       "    <div>\n",
       "      \n",
       "      <progress value='750' max='750' style='width:300px; height:20px; vertical-align: middle;'></progress>\n",
       "      [750/750 18:40, Epoch 3/3]\n",
       "    </div>\n",
       "    <table border=\"1\" class=\"dataframe\">\n",
       "  <thead>\n",
       " <tr style=\"text-align: left;\">\n",
       "      <th>Step</th>\n",
       "      <th>Training Loss</th>\n",
       "      <th>Validation Loss</th>\n",
       "      <th>Auc</th>\n",
       "    </tr>\n",
       "  </thead>\n",
       "  <tbody>\n",
       "    <tr>\n",
       "      <td>50</td>\n",
       "      <td>0.157000</td>\n",
       "      <td>0.119721</td>\n",
       "      <td>0.837587</td>\n",
       "    </tr>\n",
       "    <tr>\n",
       "      <td>100</td>\n",
       "      <td>0.090300</td>\n",
       "      <td>0.070617</td>\n",
       "      <td>0.953506</td>\n",
       "    </tr>\n",
       "    <tr>\n",
       "      <td>150</td>\n",
       "      <td>0.053800</td>\n",
       "      <td>0.049113</td>\n",
       "      <td>0.965335</td>\n",
       "    </tr>\n",
       "    <tr>\n",
       "      <td>200</td>\n",
       "      <td>0.053000</td>\n",
       "      <td>0.045548</td>\n",
       "      <td>0.970678</td>\n",
       "    </tr>\n",
       "    <tr>\n",
       "      <td>250</td>\n",
       "      <td>0.043000</td>\n",
       "      <td>0.058293</td>\n",
       "      <td>0.972276</td>\n",
       "    </tr>\n",
       "    <tr>\n",
       "      <td>300</td>\n",
       "      <td>0.041900</td>\n",
       "      <td>0.052848</td>\n",
       "      <td>0.970879</td>\n",
       "    </tr>\n",
       "    <tr>\n",
       "      <td>350</td>\n",
       "      <td>0.034300</td>\n",
       "      <td>0.051571</td>\n",
       "      <td>0.972210</td>\n",
       "    </tr>\n",
       "    <tr>\n",
       "      <td>400</td>\n",
       "      <td>0.040500</td>\n",
       "      <td>0.049375</td>\n",
       "      <td>0.972243</td>\n",
       "    </tr>\n",
       "    <tr>\n",
       "      <td>450</td>\n",
       "      <td>0.043500</td>\n",
       "      <td>0.047532</td>\n",
       "      <td>0.972232</td>\n",
       "    </tr>\n",
       "    <tr>\n",
       "      <td>500</td>\n",
       "      <td>0.034300</td>\n",
       "      <td>0.049739</td>\n",
       "      <td>0.973452</td>\n",
       "    </tr>\n",
       "    <tr>\n",
       "      <td>550</td>\n",
       "      <td>0.023300</td>\n",
       "      <td>0.057514</td>\n",
       "      <td>0.972137</td>\n",
       "    </tr>\n",
       "    <tr>\n",
       "      <td>600</td>\n",
       "      <td>0.029900</td>\n",
       "      <td>0.052508</td>\n",
       "      <td>0.972003</td>\n",
       "    </tr>\n",
       "    <tr>\n",
       "      <td>650</td>\n",
       "      <td>0.017500</td>\n",
       "      <td>0.060545</td>\n",
       "      <td>0.970557</td>\n",
       "    </tr>\n",
       "    <tr>\n",
       "      <td>700</td>\n",
       "      <td>0.019700</td>\n",
       "      <td>0.060529</td>\n",
       "      <td>0.970418</td>\n",
       "    </tr>\n",
       "    <tr>\n",
       "      <td>750</td>\n",
       "      <td>0.020000</td>\n",
       "      <td>0.060096</td>\n",
       "      <td>0.970628</td>\n",
       "    </tr>\n",
       "  </tbody>\n",
       "</table><p>"
      ],
      "text/plain": [
       "<IPython.core.display.HTML object>"
      ]
     },
     "metadata": {},
     "output_type": "display_data"
    },
    {
     "data": {
      "text/html": [],
      "text/plain": [
       "<IPython.core.display.HTML object>"
      ]
     },
     "metadata": {},
     "output_type": "display_data"
    },
    {
     "name": "stderr",
     "output_type": "stream",
     "text": [
      "Some weights of DebertaV2ForSequenceClassification were not initialized from the model checkpoint at microsoft/deberta-v3-large and are newly initialized: ['classifier.bias', 'classifier.weight', 'pooler.dense.bias', 'pooler.dense.weight']\n",
      "You should probably TRAIN this model on a down-stream task to be able to use it for predictions and inference.\n"
     ]
    },
    {
     "data": {
      "application/vnd.jupyter.widget-view+json": {
       "model_id": "8e115d524a344862afac5f54d63dd1df",
       "version_major": 2,
       "version_minor": 0
      },
      "text/plain": [
       "Map:   0%|          | 0/8000 [00:00<?, ? examples/s]"
      ]
     },
     "metadata": {},
     "output_type": "display_data"
    },
    {
     "data": {
      "application/vnd.jupyter.widget-view+json": {
       "model_id": "08e30931f3134cb68ff1d241957af582",
       "version_major": 2,
       "version_minor": 0
      },
      "text/plain": [
       "Map:   0%|          | 0/2000 [00:00<?, ? examples/s]"
      ]
     },
     "metadata": {},
     "output_type": "display_data"
    },
    {
     "data": {
      "text/html": [
       "\n",
       "    <div>\n",
       "      \n",
       "      <progress value='750' max='750' style='width:300px; height:20px; vertical-align: middle;'></progress>\n",
       "      [750/750 14:36, Epoch 3/3]\n",
       "    </div>\n",
       "    <table border=\"1\" class=\"dataframe\">\n",
       "  <thead>\n",
       " <tr style=\"text-align: left;\">\n",
       "      <th>Step</th>\n",
       "      <th>Training Loss</th>\n",
       "      <th>Validation Loss</th>\n",
       "      <th>Auc</th>\n",
       "    </tr>\n",
       "  </thead>\n",
       "  <tbody>\n",
       "    <tr>\n",
       "      <td>50</td>\n",
       "      <td>0.157100</td>\n",
       "      <td>0.105030</td>\n",
       "      <td>0.901187</td>\n",
       "    </tr>\n",
       "    <tr>\n",
       "      <td>100</td>\n",
       "      <td>0.101000</td>\n",
       "      <td>0.109009</td>\n",
       "      <td>0.870957</td>\n",
       "    </tr>\n",
       "    <tr>\n",
       "      <td>150</td>\n",
       "      <td>0.063000</td>\n",
       "      <td>0.081631</td>\n",
       "      <td>0.961422</td>\n",
       "    </tr>\n",
       "    <tr>\n",
       "      <td>200</td>\n",
       "      <td>0.063800</td>\n",
       "      <td>0.060162</td>\n",
       "      <td>0.962331</td>\n",
       "    </tr>\n",
       "    <tr>\n",
       "      <td>250</td>\n",
       "      <td>0.055500</td>\n",
       "      <td>0.049807</td>\n",
       "      <td>0.964394</td>\n",
       "    </tr>\n",
       "    <tr>\n",
       "      <td>300</td>\n",
       "      <td>0.037300</td>\n",
       "      <td>0.061504</td>\n",
       "      <td>0.965343</td>\n",
       "    </tr>\n",
       "    <tr>\n",
       "      <td>350</td>\n",
       "      <td>0.043300</td>\n",
       "      <td>0.048685</td>\n",
       "      <td>0.964286</td>\n",
       "    </tr>\n",
       "    <tr>\n",
       "      <td>400</td>\n",
       "      <td>0.031800</td>\n",
       "      <td>0.048261</td>\n",
       "      <td>0.968398</td>\n",
       "    </tr>\n",
       "    <tr>\n",
       "      <td>450</td>\n",
       "      <td>0.039700</td>\n",
       "      <td>0.051036</td>\n",
       "      <td>0.971054</td>\n",
       "    </tr>\n",
       "    <tr>\n",
       "      <td>500</td>\n",
       "      <td>0.041900</td>\n",
       "      <td>0.051569</td>\n",
       "      <td>0.968262</td>\n",
       "    </tr>\n",
       "    <tr>\n",
       "      <td>550</td>\n",
       "      <td>0.024800</td>\n",
       "      <td>0.064223</td>\n",
       "      <td>0.968752</td>\n",
       "    </tr>\n",
       "    <tr>\n",
       "      <td>600</td>\n",
       "      <td>0.023300</td>\n",
       "      <td>0.057008</td>\n",
       "      <td>0.969686</td>\n",
       "    </tr>\n",
       "    <tr>\n",
       "      <td>650</td>\n",
       "      <td>0.023300</td>\n",
       "      <td>0.056557</td>\n",
       "      <td>0.970107</td>\n",
       "    </tr>\n",
       "    <tr>\n",
       "      <td>700</td>\n",
       "      <td>0.024300</td>\n",
       "      <td>0.055806</td>\n",
       "      <td>0.970056</td>\n",
       "    </tr>\n",
       "    <tr>\n",
       "      <td>750</td>\n",
       "      <td>0.022000</td>\n",
       "      <td>0.055235</td>\n",
       "      <td>0.969894</td>\n",
       "    </tr>\n",
       "  </tbody>\n",
       "</table><p>"
      ],
      "text/plain": [
       "<IPython.core.display.HTML object>"
      ]
     },
     "metadata": {},
     "output_type": "display_data"
    },
    {
     "data": {
      "text/html": [],
      "text/plain": [
       "<IPython.core.display.HTML object>"
      ]
     },
     "metadata": {},
     "output_type": "display_data"
    },
    {
     "name": "stderr",
     "output_type": "stream",
     "text": [
      "Some weights of DebertaV2ForSequenceClassification were not initialized from the model checkpoint at microsoft/deberta-v3-large and are newly initialized: ['classifier.bias', 'classifier.weight', 'pooler.dense.bias', 'pooler.dense.weight']\n",
      "You should probably TRAIN this model on a down-stream task to be able to use it for predictions and inference.\n"
     ]
    },
    {
     "data": {
      "application/vnd.jupyter.widget-view+json": {
       "model_id": "c451a17901b74a02b2ff700816588fa0",
       "version_major": 2,
       "version_minor": 0
      },
      "text/plain": [
       "Map:   0%|          | 0/8000 [00:00<?, ? examples/s]"
      ]
     },
     "metadata": {},
     "output_type": "display_data"
    },
    {
     "data": {
      "application/vnd.jupyter.widget-view+json": {
       "model_id": "791aabac8a254707a1a1845e28f88d80",
       "version_major": 2,
       "version_minor": 0
      },
      "text/plain": [
       "Map:   0%|          | 0/2000 [00:00<?, ? examples/s]"
      ]
     },
     "metadata": {},
     "output_type": "display_data"
    },
    {
     "data": {
      "text/html": [
       "\n",
       "    <div>\n",
       "      \n",
       "      <progress value='750' max='750' style='width:300px; height:20px; vertical-align: middle;'></progress>\n",
       "      [750/750 14:56, Epoch 3/3]\n",
       "    </div>\n",
       "    <table border=\"1\" class=\"dataframe\">\n",
       "  <thead>\n",
       " <tr style=\"text-align: left;\">\n",
       "      <th>Step</th>\n",
       "      <th>Training Loss</th>\n",
       "      <th>Validation Loss</th>\n",
       "      <th>Auc</th>\n",
       "    </tr>\n",
       "  </thead>\n",
       "  <tbody>\n",
       "    <tr>\n",
       "      <td>50</td>\n",
       "      <td>0.152900</td>\n",
       "      <td>0.116163</td>\n",
       "      <td>0.906015</td>\n",
       "    </tr>\n",
       "    <tr>\n",
       "      <td>100</td>\n",
       "      <td>0.072100</td>\n",
       "      <td>0.073576</td>\n",
       "      <td>0.951883</td>\n",
       "    </tr>\n",
       "    <tr>\n",
       "      <td>150</td>\n",
       "      <td>0.061500</td>\n",
       "      <td>0.056677</td>\n",
       "      <td>0.966788</td>\n",
       "    </tr>\n",
       "    <tr>\n",
       "      <td>200</td>\n",
       "      <td>0.059700</td>\n",
       "      <td>0.049377</td>\n",
       "      <td>0.971109</td>\n",
       "    </tr>\n",
       "    <tr>\n",
       "      <td>250</td>\n",
       "      <td>0.053300</td>\n",
       "      <td>0.044699</td>\n",
       "      <td>0.973168</td>\n",
       "    </tr>\n",
       "    <tr>\n",
       "      <td>300</td>\n",
       "      <td>0.040000</td>\n",
       "      <td>0.051533</td>\n",
       "      <td>0.971184</td>\n",
       "    </tr>\n",
       "    <tr>\n",
       "      <td>350</td>\n",
       "      <td>0.037800</td>\n",
       "      <td>0.046075</td>\n",
       "      <td>0.970277</td>\n",
       "    </tr>\n",
       "    <tr>\n",
       "      <td>400</td>\n",
       "      <td>0.040400</td>\n",
       "      <td>0.048181</td>\n",
       "      <td>0.971187</td>\n",
       "    </tr>\n",
       "    <tr>\n",
       "      <td>450</td>\n",
       "      <td>0.041800</td>\n",
       "      <td>0.045491</td>\n",
       "      <td>0.972457</td>\n",
       "    </tr>\n",
       "    <tr>\n",
       "      <td>500</td>\n",
       "      <td>0.041600</td>\n",
       "      <td>0.053808</td>\n",
       "      <td>0.971773</td>\n",
       "    </tr>\n",
       "    <tr>\n",
       "      <td>550</td>\n",
       "      <td>0.026500</td>\n",
       "      <td>0.052618</td>\n",
       "      <td>0.969251</td>\n",
       "    </tr>\n",
       "    <tr>\n",
       "      <td>600</td>\n",
       "      <td>0.029900</td>\n",
       "      <td>0.051956</td>\n",
       "      <td>0.968803</td>\n",
       "    </tr>\n",
       "    <tr>\n",
       "      <td>650</td>\n",
       "      <td>0.023000</td>\n",
       "      <td>0.053069</td>\n",
       "      <td>0.968802</td>\n",
       "    </tr>\n",
       "    <tr>\n",
       "      <td>700</td>\n",
       "      <td>0.024300</td>\n",
       "      <td>0.053380</td>\n",
       "      <td>0.969059</td>\n",
       "    </tr>\n",
       "    <tr>\n",
       "      <td>750</td>\n",
       "      <td>0.024700</td>\n",
       "      <td>0.053542</td>\n",
       "      <td>0.969074</td>\n",
       "    </tr>\n",
       "  </tbody>\n",
       "</table><p>"
      ],
      "text/plain": [
       "<IPython.core.display.HTML object>"
      ]
     },
     "metadata": {},
     "output_type": "display_data"
    },
    {
     "data": {
      "text/html": [],
      "text/plain": [
       "<IPython.core.display.HTML object>"
      ]
     },
     "metadata": {},
     "output_type": "display_data"
    }
   ],
   "source": [
    "# metricをAUCに変更\n",
    "def compute_metrics(p):\n",
    "    preds, labels = p\n",
    "    preds = torch.softmax(torch.tensor(preds), dim=1).numpy()\n",
    "    score = roc_auc_score(labels, preds[:, 1])\n",
    "    return {\"auc\": score}\n",
    "\n",
    "\n",
    "# 実験結果格納用のディレクトリを作成\n",
    "cfg.run_name = time.strftime(\"%Y%m%d_%H%M%S\")\n",
    "Path(cfg.data.results_dir).mkdir(exist_ok=True, parents=True)\n",
    "\n",
    "y_train = train_df[cfg.target].to_numpy()\n",
    "oof = np.zeros(len(y_train))\n",
    "\n",
    "for fold, (train_idx, val_idx) in enumerate(skf.split(train_df, y_train)):\n",
    "    ds_train = Dataset.from_pandas(train_df[train_idx][[\"prompt\", \"labels\"]].clone().to_pandas())\n",
    "    ds_val = Dataset.from_pandas(train_df[val_idx][[\"prompt\", \"labels\"]].clone().to_pandas())\n",
    "\n",
    "    config = AutoConfig.from_pretrained(cfg.bert.params.model_path)\n",
    "    model = AutoModelForSequenceClassification.from_pretrained(cfg.bert.params.model_path, config=config)\n",
    "\n",
    "    ds_train = ds_train.map(tokenize).remove_columns(\"prompt\")\n",
    "    ds_val = ds_val.map(tokenize).remove_columns(\"prompt\")\n",
    "\n",
    "    output_dir = os.path.join(cfg.data.results_dir, f\"fold{fold}\")\n",
    "\n",
    "    train_args = TrainingArguments(\n",
    "        output_dir=output_dir,\n",
    "        fp16=cfg.bert.params.fp16,\n",
    "        learning_rate=cfg.bert.params.learning_rate,\n",
    "        num_train_epochs=cfg.bert.params.epochs,\n",
    "        per_device_train_batch_size=cfg.bert.params.per_device_train_batch_size,\n",
    "        per_device_eval_batch_size=cfg.bert.params.per_device_eval_batch_size,\n",
    "        gradient_accumulation_steps=4,\n",
    "        report_to=\"none\",\n",
    "        evaluation_strategy=\"steps\",\n",
    "        do_eval=True,\n",
    "        eval_steps=cfg.bert.params.steps,\n",
    "        save_total_limit=1,\n",
    "        save_strategy=\"steps\",\n",
    "        save_steps=cfg.bert.params.steps,\n",
    "        logging_steps=cfg.bert.params.steps,\n",
    "        load_best_model_at_end=True,\n",
    "        lr_scheduler_type=cfg.bert.params.lr_scheduler_type,\n",
    "        metric_for_best_model=cfg.bert.params.metric,\n",
    "        greater_is_better=True,\n",
    "        warmup_ratio=0.1,\n",
    "        weight_decay=cfg.bert.params.weight_decay,\n",
    "        save_safetensors=True,\n",
    "        seed=cfg.seed,\n",
    "        data_seed=cfg.seed,\n",
    "    )\n",
    "\n",
    "    trainer = CustomTrainer(\n",
    "        model=model,\n",
    "        args=train_args,\n",
    "        train_dataset=ds_train,\n",
    "        eval_dataset=ds_val,\n",
    "        data_collator=DataCollatorWithPadding(tokenizer),\n",
    "        tokenizer=tokenizer,\n",
    "        compute_metrics=compute_metrics,\n",
    "        loss_fn=loss_fn,\n",
    "    )\n",
    "\n",
    "    trainer.train()\n",
    "\n",
    "    final_output_dir = f\"{cfg.data.results_dir}/fold{fold}/final\"\n",
    "    trainer.save_model(final_output_dir)\n",
    "    tokenizer.save_pretrained(final_output_dir)\n",
    "\n",
    "    pred = torch.softmax(torch.tensor(trainer.predict(ds_val).predictions), dim=1).numpy()\n",
    "    oof[val_idx] = pred[:, 1]\n"
   ]
  },
  {
   "cell_type": "markdown",
   "metadata": {},
   "source": [
    "### Sub\n"
   ]
  },
  {
   "cell_type": "code",
   "execution_count": 11,
   "metadata": {},
   "outputs": [
    {
     "data": {
      "application/vnd.jupyter.widget-view+json": {
       "model_id": "506f8410e8e847d1b97c5476b5708f00",
       "version_major": 2,
       "version_minor": 0
      },
      "text/plain": [
       "Map:   0%|          | 0/11155 [00:00<?, ? examples/s]"
      ]
     },
     "metadata": {},
     "output_type": "display_data"
    },
    {
     "data": {
      "text/html": [],
      "text/plain": [
       "<IPython.core.display.HTML object>"
      ]
     },
     "metadata": {},
     "output_type": "display_data"
    },
    {
     "data": {
      "application/vnd.jupyter.widget-view+json": {
       "model_id": "c6c5d39734d747caa6969420fbae0a68",
       "version_major": 2,
       "version_minor": 0
      },
      "text/plain": [
       "Map:   0%|          | 0/11155 [00:00<?, ? examples/s]"
      ]
     },
     "metadata": {},
     "output_type": "display_data"
    },
    {
     "data": {
      "text/html": [],
      "text/plain": [
       "<IPython.core.display.HTML object>"
      ]
     },
     "metadata": {},
     "output_type": "display_data"
    },
    {
     "data": {
      "application/vnd.jupyter.widget-view+json": {
       "model_id": "ad21249eb1a94d02b2358d1b7b619fd8",
       "version_major": 2,
       "version_minor": 0
      },
      "text/plain": [
       "Map:   0%|          | 0/11155 [00:00<?, ? examples/s]"
      ]
     },
     "metadata": {},
     "output_type": "display_data"
    },
    {
     "data": {
      "text/html": [],
      "text/plain": [
       "<IPython.core.display.HTML object>"
      ]
     },
     "metadata": {},
     "output_type": "display_data"
    },
    {
     "data": {
      "application/vnd.jupyter.widget-view+json": {
       "model_id": "1655850d1469488aa32f95e03213c68b",
       "version_major": 2,
       "version_minor": 0
      },
      "text/plain": [
       "Map:   0%|          | 0/11155 [00:00<?, ? examples/s]"
      ]
     },
     "metadata": {},
     "output_type": "display_data"
    },
    {
     "data": {
      "text/html": [],
      "text/plain": [
       "<IPython.core.display.HTML object>"
      ]
     },
     "metadata": {},
     "output_type": "display_data"
    },
    {
     "data": {
      "application/vnd.jupyter.widget-view+json": {
       "model_id": "16343421a7e04610b583d6cda6b15762",
       "version_major": 2,
       "version_minor": 0
      },
      "text/plain": [
       "Map:   0%|          | 0/11155 [00:00<?, ? examples/s]"
      ]
     },
     "metadata": {},
     "output_type": "display_data"
    },
    {
     "data": {
      "text/html": [],
      "text/plain": [
       "<IPython.core.display.HTML object>"
      ]
     },
     "metadata": {},
     "output_type": "display_data"
    }
   ],
   "source": [
    "preds = []\n",
    "for fold in range(cfg.n_splits):\n",
    "    # ベストステップのモデルを取得\n",
    "    fold_dir = f\"{cfg.data.results_dir}/fold{fold}\"\n",
    "    checkpoint_dirs = [d for d in os.listdir(fold_dir) if d.startswith(\"checkpoint-\")]\n",
    "    results_dir = os.path.join(fold_dir, checkpoint_dirs[0])\n",
    "    model = AutoModelForSequenceClassification.from_pretrained(results_dir)\n",
    "\n",
    "    ds_test = Dataset.from_pandas(test_df.select(\"prompt\").clone().to_pandas())\n",
    "    ds_test = ds_test.map(tokenize).remove_columns(\"prompt\")\n",
    "\n",
    "    test_args = TrainingArguments(\n",
    "        output_dir=cfg.data.results_dir,\n",
    "        per_device_eval_batch_size=cfg.bert.params.per_device_eval_batch_size,\n",
    "        do_predict=True,\n",
    "        dataloader_drop_last=False,\n",
    "    )\n",
    "\n",
    "    trainer = Trainer(\n",
    "        model=model,\n",
    "        args=test_args,\n",
    "        data_collator=DataCollatorWithPadding(tokenizer),\n",
    "        tokenizer=tokenizer,\n",
    "    )\n",
    "    predictions = torch.softmax(torch.tensor(trainer.predict(ds_test).predictions), dim=1).numpy()\n",
    "    preds.append(predictions[:, 1])\n",
    "\n",
    "pred = np.mean(preds, axis=0)\n"
   ]
  },
  {
   "cell_type": "code",
   "execution_count": 12,
   "metadata": {},
   "outputs": [
    {
     "data": {
      "text/html": [
       "<div><style>\n",
       ".dataframe > thead > tr,\n",
       ".dataframe > tbody > tr {\n",
       "  text-align: right;\n",
       "  white-space: pre-wrap;\n",
       "}\n",
       "</style>\n",
       "<small>shape: (5, 1)</small><table border=\"1\" class=\"dataframe\"><thead><tr><th>target</th></tr><tr><td>f32</td></tr></thead><tbody><tr><td>0.905986</td></tr><tr><td>0.486497</td></tr><tr><td>0.907969</td></tr><tr><td>0.329067</td></tr><tr><td>0.89087</td></tr></tbody></table></div>"
      ],
      "text/plain": [
       "shape: (5, 1)\n",
       "┌──────────┐\n",
       "│ target   │\n",
       "│ ---      │\n",
       "│ f32      │\n",
       "╞══════════╡\n",
       "│ 0.905986 │\n",
       "│ 0.486497 │\n",
       "│ 0.907969 │\n",
       "│ 0.329067 │\n",
       "│ 0.89087  │\n",
       "└──────────┘"
      ]
     },
     "execution_count": 12,
     "metadata": {},
     "output_type": "execute_result"
    }
   ],
   "source": [
    "# 提出\n",
    "sub_df = pl.read_csv(cfg.data.sample_submission_path)\n",
    "sub_df = sub_df.with_columns(pl.Series(pred).alias(\"target\"))\n",
    "sub_df.write_csv(os.path.join(cfg.data.results_dir, f\"{cfg.run_name}_submission.csv\"))\n",
    "sub_df.head()\n"
   ]
  },
  {
   "cell_type": "markdown",
   "metadata": {},
   "source": [
    "### oof\n"
   ]
  },
  {
   "cell_type": "code",
   "execution_count": 13,
   "metadata": {},
   "outputs": [
    {
     "data": {
      "image/png": "[encoded data removed]",
      "text/plain": [
       "<Figure size 1200x500 with 1 Axes>"
      ]
     },
     "metadata": {},
     "output_type": "display_data"
    }
   ],
   "source": [
    "fig, ax = plt.subplots(figsize=(12, 5))\n",
    "sns.histplot(y_train, bins=50)\n",
    "sns.histplot(oof, bins=50)\n",
    "plt.legend([\"true\", \"oof\"])\n",
    "plt.show()\n",
    "fig.savefig(f\"{cfg.data.results_dir}/oof_hist.png\")\n"
   ]
  },
  {
   "cell_type": "code",
   "execution_count": 14,
   "metadata": {},
   "outputs": [],
   "source": [
    "# OOFを保存\n",
    "np.save(f\"{cfg.data.results_dir}/oof.npy\", oof)\n",
    "\n",
    "# 予測結果も保存\n",
    "np.save(f\"{cfg.data.results_dir}/pred.npy\", pred)\n"
   ]
  },
  {
   "cell_type": "markdown",
   "metadata": {},
   "source": [
    "### 学習済みのBERTを使って特徴抽出してみる"
   ]
  },
  {
   "cell_type": "code",
   "execution_count": 43,
   "metadata": {},
   "outputs": [
    {
     "name": "stdout",
     "output_type": "stream",
     "text": [
      "使用デバイス: cuda\n"
     ]
    },
    {
     "data": {
      "application/vnd.jupyter.widget-view+json": {
       "model_id": "94627b756a6f48dabd414a405957e1f3",
       "version_major": 2,
       "version_minor": 0
      },
      "text/plain": [
       "Map:   0%|          | 0/2000 [00:00<?, ? examples/s]"
      ]
     },
     "metadata": {},
     "output_type": "display_data"
    },
    {
     "data": {
      "application/vnd.jupyter.widget-view+json": {
       "model_id": "682d4d7612094d98b8b40943e7442a97",
       "version_major": 2,
       "version_minor": 0
      },
      "text/plain": [
       "Map:   0%|          | 0/2000 [00:00<?, ? examples/s]"
      ]
     },
     "metadata": {},
     "output_type": "display_data"
    },
    {
     "data": {
      "application/vnd.jupyter.widget-view+json": {
       "model_id": "1fcde349fe714d8faf35a2492ea5cf69",
       "version_major": 2,
       "version_minor": 0
      },
      "text/plain": [
       "Map:   0%|          | 0/2000 [00:00<?, ? examples/s]"
      ]
     },
     "metadata": {},
     "output_type": "display_data"
    },
    {
     "data": {
      "application/vnd.jupyter.widget-view+json": {
       "model_id": "6d9218a9656a4f51a2b372d0a6d197e6",
       "version_major": 2,
       "version_minor": 0
      },
      "text/plain": [
       "Map:   0%|          | 0/2000 [00:00<?, ? examples/s]"
      ]
     },
     "metadata": {},
     "output_type": "display_data"
    },
    {
     "data": {
      "application/vnd.jupyter.widget-view+json": {
       "model_id": "9540d02bc09a40ceb850c80a698994e9",
       "version_major": 2,
       "version_minor": 0
      },
      "text/plain": [
       "Map:   0%|          | 0/2000 [00:00<?, ? examples/s]"
      ]
     },
     "metadata": {},
     "output_type": "display_data"
    }
   ],
   "source": [
    "# trainのoofで特徴抽出\n",
    "\n",
    "cfg.run_name = \"20240830_164022\"\n",
    "\n",
    "device = torch.device(\"cuda\" if torch.cuda.is_available() else \"cpu\")\n",
    "print(f\"使用デバイス: {device}\")\n",
    "\n",
    "\n",
    "# モデルの定義を変更して特徴量を抽出するクラス\n",
    "class FeatureExtractor(nn.Module):\n",
    "    def __init__(self, model):\n",
    "        super().__init__()\n",
    "        self.model = model\n",
    "\n",
    "    def forward(self, **inputs):\n",
    "        outputs = self.model(**inputs, output_hidden_states=True)\n",
    "        # 最後の隠れ層の出力を取得（他の層を使用することも可能）\n",
    "        features = outputs.hidden_states[-1][:, 0, :]  # [CLS]トークンの出力を使用\n",
    "        return features\n",
    "\n",
    "\n",
    "# 特徴量抽出用の関数\n",
    "def extract_features(model, dataset, tokenizer):\n",
    "    feature_extractor = FeatureExtractor(model).to(device)\n",
    "    feature_extractor.eval()\n",
    "\n",
    "    features = []\n",
    "    for batch in DataLoader(dataset, batch_size=8, collate_fn=DataCollatorWithPadding(tokenizer)):\n",
    "        with torch.no_grad():\n",
    "            batch = {k: v.to(model.device) for k, v in batch.items()}\n",
    "            output = feature_extractor(**batch)\n",
    "            features.append(output.cpu().numpy())\n",
    "\n",
    "    return np.vstack(features)\n",
    "\n",
    "\n",
    "# OOFデータの特徴量を抽出\n",
    "train_oof_features = []\n",
    "for fold in range(cfg.n_splits):\n",
    "    fold_dir = f\"{cfg.data.results_dir}/fold{fold}\"\n",
    "    checkpoint_dirs = [d for d in os.listdir(fold_dir) if d.startswith(\"checkpoint-\")]\n",
    "    results_dir = os.path.join(fold_dir, checkpoint_dirs[0])\n",
    "    model = AutoModelForSequenceClassification.from_pretrained(results_dir)\n",
    "\n",
    "    # バリデーションデータセットの準備\n",
    "    val_idx = list(skf.split(train_df, y_train))[fold][1]\n",
    "    ds_val = Dataset.from_pandas(train_df[val_idx][[\"prompt\"]].clone().to_pandas())\n",
    "    ds_val = ds_val.map(tokenize).remove_columns(\"prompt\")\n",
    "\n",
    "    # 特徴量抽出\n",
    "    fold_features = extract_features(model, ds_val, tokenizer)\n",
    "    train_oof_features.append(fold_features)\n",
    "\n",
    "\n",
    "# 全てのフォールドの特徴量を結合\n",
    "train_oof_features = np.concatenate(train_oof_features, axis=0)\n"
   ]
  },
  {
   "cell_type": "code",
   "execution_count": 54,
   "metadata": {},
   "outputs": [
    {
     "name": "stdout",
     "output_type": "stream",
     "text": [
      "train_oof_features.shape = (10000, 1024)\n"
     ]
    }
   ],
   "source": [
    "print(f\"{train_oof_features.shape = }\")\n",
    "# 保存\n",
    "np.save(f\"{cfg.data.results_dir}/train_oof_features.npy\", train_oof_features)\n"
   ]
  },
  {
   "cell_type": "code",
   "execution_count": 55,
   "metadata": {},
   "outputs": [
    {
     "data": {
      "application/vnd.jupyter.widget-view+json": {
       "model_id": "f1f0f0643639495d8cae97b2ad06a17f",
       "version_major": 2,
       "version_minor": 0
      },
      "text/plain": [
       "Map:   0%|          | 0/11155 [00:00<?, ? examples/s]"
      ]
     },
     "metadata": {},
     "output_type": "display_data"
    },
    {
     "data": {
      "application/vnd.jupyter.widget-view+json": {
       "model_id": "dedf2e105e424c8faabb0b5c9c45b5b7",
       "version_major": 2,
       "version_minor": 0
      },
      "text/plain": [
       "Map:   0%|          | 0/11155 [00:00<?, ? examples/s]"
      ]
     },
     "metadata": {},
     "output_type": "display_data"
    },
    {
     "data": {
      "application/vnd.jupyter.widget-view+json": {
       "model_id": "ddf84f187fdb44c8acdbcf6651a591ac",
       "version_major": 2,
       "version_minor": 0
      },
      "text/plain": [
       "Map:   0%|          | 0/11155 [00:00<?, ? examples/s]"
      ]
     },
     "metadata": {},
     "output_type": "display_data"
    },
    {
     "data": {
      "application/vnd.jupyter.widget-view+json": {
       "model_id": "cf961f72c73c4e07aedba75e1155c153",
       "version_major": 2,
       "version_minor": 0
      },
      "text/plain": [
       "Map:   0%|          | 0/11155 [00:00<?, ? examples/s]"
      ]
     },
     "metadata": {},
     "output_type": "display_data"
    },
    {
     "data": {
      "application/vnd.jupyter.widget-view+json": {
       "model_id": "0037e88af76049cfb5d71c7c77d16ada",
       "version_major": 2,
       "version_minor": 0
      },
      "text/plain": [
       "Map:   0%|          | 0/11155 [00:00<?, ? examples/s]"
      ]
     },
     "metadata": {},
     "output_type": "display_data"
    }
   ],
   "source": [
    "# 次はtestの特徴抽出（fold間での平均を使用する）\n",
    "test_features = []\n",
    "for fold in range(cfg.n_splits):\n",
    "    fold_dir = f\"{cfg.data.results_dir}/fold{fold}\"\n",
    "    checkpoint_dirs = [d for d in os.listdir(fold_dir) if d.startswith(\"checkpoint-\")]\n",
    "    results_dir = os.path.join(fold_dir, checkpoint_dirs[0])\n",
    "    model = AutoModelForSequenceClassification.from_pretrained(results_dir)\n",
    "\n",
    "    ds_test = Dataset.from_pandas(test_df.select(\"prompt\").clone().to_pandas())\n",
    "    ds_test = ds_test.map(tokenize).remove_columns(\"prompt\")\n",
    "\n",
    "    # 特徴量抽出\n",
    "    fold_features = extract_features(model, ds_test, tokenizer)\n",
    "    test_features.append(fold_features)\n",
    "\n",
    "\n",
    "# 全てのフォールドの特徴量の平均をとる\n",
    "test_features = np.mean(test_features, axis=0)\n",
    "\n"
   ]
  },
  {
   "cell_type": "code",
   "execution_count": 56,
   "metadata": {},
   "outputs": [
    {
     "name": "stdout",
     "output_type": "stream",
     "text": [
      "test_features.shape = (11155, 1024)\n"
     ]
    }
   ],
   "source": [
    "print(f\"{test_features.shape = }\")\n",
    "# 保存\n",
    "np.save(f\"{cfg.data.results_dir}/test_features.npy\", test_features)\n"
   ]
  }
 ],
 "metadata": {
  "kernelspec": {
   "display_name": ".venv",
   "language": "python",
   "name": "python3"
  },
  "language_info": {
   "codemirror_mode": {
    "name": "ipython",
    "version": 3
   },
   "file_extension": ".py",
   "mimetype": "text/x-python",
   "name": "python",
   "nbconvert_exporter": "python",
   "pygments_lexer": "ipython3",
   "version": "3.12.5"
  }
 },
 "nbformat": 4,
 "nbformat_minor": 2
}
