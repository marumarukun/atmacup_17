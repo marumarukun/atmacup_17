{
 "cells": [
  {
   "cell_type": "code",
   "execution_count": 1,
   "metadata": {},
   "outputs": [],
   "source": [
    "from pathlib import Path\n",
    "\n",
    "import numpy as np\n",
    "import pandas as pd\n",
    "import seaborn as sns\n",
    "from hydra import compose, initialize\n",
    "from matplotlib import pyplot as plt\n",
    "from matplotlib_venn import venn2\n",
    "\n",
    "\n",
    "def draw_venn2(train, test, rows, columns, x_size, y_size):\n",
    "    fig, axes = plt.subplots(rows, columns, figsize=(x_size, y_size))\n",
    "    column_names = test.columns\n",
    "    for col, ax in zip(column_names, axes.ravel()):\n",
    "        venn2(\n",
    "            subsets=(set(train[col].dropna().unique()), set(test[col].dropna().unique())),\n",
    "            set_labels=(\"train\", \"test\"),\n",
    "            ax=ax,\n",
    "        )\n",
    "        ax.set_title(col)\n",
    "    fig.tight_layout()\n",
    "\n",
    "\n",
    "with initialize(config_path=\"config\", version_base=None):\n",
    "    cfg = compose(config_name=\"config\")\n",
    "    cfg.exp_number = Path().resolve().name\n"
   ]
  },
  {
   "cell_type": "code",
   "execution_count": 2,
   "metadata": {},
   "outputs": [],
   "source": [
    "train_df = pd.read_csv(cfg.data.train_path)\n",
    "anime_df = pd.read_csv(cfg.data.anime_path)\n",
    "test_df = pd.read_csv(cfg.data.test_path)\n",
    "sub_df = pd.read_csv(cfg.data.sample_submission_path)\n"
   ]
  },
  {
   "cell_type": "code",
   "execution_count": 3,
   "metadata": {},
   "outputs": [
    {
     "name": "stdout",
     "output_type": "stream",
     "text": [
      "■ train\n"
     ]
    },
    {
     "data": {
      "text/html": [
       "<div>\n",
       "<style scoped>\n",
       "    .dataframe tbody tr th:only-of-type {\n",
       "        vertical-align: middle;\n",
       "    }\n",
       "\n",
       "    .dataframe tbody tr th {\n",
       "        vertical-align: top;\n",
       "    }\n",
       "\n",
       "    .dataframe thead th {\n",
       "        text-align: right;\n",
       "    }\n",
       "</style>\n",
       "<table border=\"1\" class=\"dataframe\">\n",
       "  <thead>\n",
       "    <tr style=\"text-align: right;\">\n",
       "      <th></th>\n",
       "      <th>user_id</th>\n",
       "      <th>anime_id</th>\n",
       "      <th>score</th>\n",
       "    </tr>\n",
       "  </thead>\n",
       "  <tbody>\n",
       "    <tr>\n",
       "      <th>0</th>\n",
       "      <td>0008e10fb39e55447333</td>\n",
       "      <td>0669cc0219d468761195</td>\n",
       "      <td>2</td>\n",
       "    </tr>\n",
       "    <tr>\n",
       "      <th>1</th>\n",
       "      <td>0008e10fb39e55447333</td>\n",
       "      <td>111adb8835b8a1a2cf54</td>\n",
       "      <td>10</td>\n",
       "    </tr>\n",
       "    <tr>\n",
       "      <th>2</th>\n",
       "      <td>0008e10fb39e55447333</td>\n",
       "      <td>1fc8683c393432a2f9c7</td>\n",
       "      <td>1</td>\n",
       "    </tr>\n",
       "    <tr>\n",
       "      <th>3</th>\n",
       "      <td>0008e10fb39e55447333</td>\n",
       "      <td>2290175205d55e81b197</td>\n",
       "      <td>8</td>\n",
       "    </tr>\n",
       "    <tr>\n",
       "      <th>4</th>\n",
       "      <td>0008e10fb39e55447333</td>\n",
       "      <td>28f173b60331d5cabb0d</td>\n",
       "      <td>9</td>\n",
       "    </tr>\n",
       "  </tbody>\n",
       "</table>\n",
       "</div>"
      ],
      "text/plain": [
       "                user_id              anime_id  score\n",
       "0  0008e10fb39e55447333  0669cc0219d468761195      2\n",
       "1  0008e10fb39e55447333  111adb8835b8a1a2cf54     10\n",
       "2  0008e10fb39e55447333  1fc8683c393432a2f9c7      1\n",
       "3  0008e10fb39e55447333  2290175205d55e81b197      8\n",
       "4  0008e10fb39e55447333  28f173b60331d5cabb0d      9"
      ]
     },
     "metadata": {},
     "output_type": "display_data"
    },
    {
     "name": "stdout",
     "output_type": "stream",
     "text": [
      "■ test\n"
     ]
    },
    {
     "data": {
      "text/html": [
       "<div>\n",
       "<style scoped>\n",
       "    .dataframe tbody tr th:only-of-type {\n",
       "        vertical-align: middle;\n",
       "    }\n",
       "\n",
       "    .dataframe tbody tr th {\n",
       "        vertical-align: top;\n",
       "    }\n",
       "\n",
       "    .dataframe thead th {\n",
       "        text-align: right;\n",
       "    }\n",
       "</style>\n",
       "<table border=\"1\" class=\"dataframe\">\n",
       "  <thead>\n",
       "    <tr style=\"text-align: right;\">\n",
       "      <th></th>\n",
       "      <th>user_id</th>\n",
       "      <th>anime_id</th>\n",
       "    </tr>\n",
       "  </thead>\n",
       "  <tbody>\n",
       "    <tr>\n",
       "      <th>0</th>\n",
       "      <td>0008e10fb39e55447333</td>\n",
       "      <td>04068820a73e52dc3b32</td>\n",
       "    </tr>\n",
       "    <tr>\n",
       "      <th>1</th>\n",
       "      <td>0008e10fb39e55447333</td>\n",
       "      <td>04a3d0b122b24965e909</td>\n",
       "    </tr>\n",
       "    <tr>\n",
       "      <th>2</th>\n",
       "      <td>0008e10fb39e55447333</td>\n",
       "      <td>1447fe1f10b59912d6a8</td>\n",
       "    </tr>\n",
       "    <tr>\n",
       "      <th>3</th>\n",
       "      <td>0008e10fb39e55447333</td>\n",
       "      <td>2622632598c68682afd5</td>\n",
       "    </tr>\n",
       "    <tr>\n",
       "      <th>4</th>\n",
       "      <td>0008e10fb39e55447333</td>\n",
       "      <td>2701850c7216516fec46</td>\n",
       "    </tr>\n",
       "  </tbody>\n",
       "</table>\n",
       "</div>"
      ],
      "text/plain": [
       "                user_id              anime_id\n",
       "0  0008e10fb39e55447333  04068820a73e52dc3b32\n",
       "1  0008e10fb39e55447333  04a3d0b122b24965e909\n",
       "2  0008e10fb39e55447333  1447fe1f10b59912d6a8\n",
       "3  0008e10fb39e55447333  2622632598c68682afd5\n",
       "4  0008e10fb39e55447333  2701850c7216516fec46"
      ]
     },
     "metadata": {},
     "output_type": "display_data"
    },
    {
     "name": "stdout",
     "output_type": "stream",
     "text": [
      "■ anime\n"
     ]
    },
    {
     "data": {
      "text/html": [
       "<div>\n",
       "<style scoped>\n",
       "    .dataframe tbody tr th:only-of-type {\n",
       "        vertical-align: middle;\n",
       "    }\n",
       "\n",
       "    .dataframe tbody tr th {\n",
       "        vertical-align: top;\n",
       "    }\n",
       "\n",
       "    .dataframe thead th {\n",
       "        text-align: right;\n",
       "    }\n",
       "</style>\n",
       "<table border=\"1\" class=\"dataframe\">\n",
       "  <thead>\n",
       "    <tr style=\"text-align: right;\">\n",
       "      <th></th>\n",
       "      <th>anime_id</th>\n",
       "      <th>genres</th>\n",
       "      <th>japanese_name</th>\n",
       "      <th>type</th>\n",
       "      <th>episodes</th>\n",
       "      <th>aired</th>\n",
       "      <th>producers</th>\n",
       "      <th>licensors</th>\n",
       "      <th>studios</th>\n",
       "      <th>source</th>\n",
       "      <th>duration</th>\n",
       "      <th>rating</th>\n",
       "      <th>members</th>\n",
       "      <th>watching</th>\n",
       "      <th>completed</th>\n",
       "      <th>on_hold</th>\n",
       "      <th>dropped</th>\n",
       "      <th>plan_to_watch</th>\n",
       "    </tr>\n",
       "  </thead>\n",
       "  <tbody>\n",
       "    <tr>\n",
       "      <th>0</th>\n",
       "      <td>000ba7f7e34e107e7544</td>\n",
       "      <td>Comedy, Sci-Fi, Seinen, Slice of Life, Space</td>\n",
       "      <td>宇宙兄弟</td>\n",
       "      <td>TV</td>\n",
       "      <td>99</td>\n",
       "      <td>Apr 1, 2012 to Mar 22, 2014</td>\n",
       "      <td>Aniplex, Dentsu, YTV, Trinity Sound</td>\n",
       "      <td>Sentai Filmworks</td>\n",
       "      <td>A-1 Pictures</td>\n",
       "      <td>Manga</td>\n",
       "      <td>24 min. per ep.</td>\n",
       "      <td>PG-13 - Teens 13 or older</td>\n",
       "      <td>150428</td>\n",
       "      <td>16552</td>\n",
       "      <td>37234</td>\n",
       "      <td>13009</td>\n",
       "      <td>6948</td>\n",
       "      <td>76685</td>\n",
       "    </tr>\n",
       "    <tr>\n",
       "      <th>1</th>\n",
       "      <td>00427279d72064e7fb69</td>\n",
       "      <td>Adventure, Slice of Life, Mystery, Historical,...</td>\n",
       "      <td>蟲師</td>\n",
       "      <td>TV</td>\n",
       "      <td>26</td>\n",
       "      <td>Oct 23, 2005 to Jun 19, 2006</td>\n",
       "      <td>Avex Entertainment, Marvelous, SKY Perfect Wel...</td>\n",
       "      <td>Funimation</td>\n",
       "      <td>Artland</td>\n",
       "      <td>Manga</td>\n",
       "      <td>25 min. per ep.</td>\n",
       "      <td>PG-13 - Teens 13 or older</td>\n",
       "      <td>620736</td>\n",
       "      <td>55482</td>\n",
       "      <td>235371</td>\n",
       "      <td>42786</td>\n",
       "      <td>20017</td>\n",
       "      <td>267080</td>\n",
       "    </tr>\n",
       "    <tr>\n",
       "      <th>2</th>\n",
       "      <td>00444b67aaabdf740a68</td>\n",
       "      <td>Adventure, Slice of Life, Mystery, Historical,...</td>\n",
       "      <td>蟲師 続章</td>\n",
       "      <td>TV</td>\n",
       "      <td>10</td>\n",
       "      <td>Apr 5, 2014 to Jun 21, 2014</td>\n",
       "      <td>Aniplex, Kodansha, Delfi Sound</td>\n",
       "      <td>Aniplex of America</td>\n",
       "      <td>Artland</td>\n",
       "      <td>Manga</td>\n",
       "      <td>24 min. per ep.</td>\n",
       "      <td>PG-13 - Teens 13 or older</td>\n",
       "      <td>226522</td>\n",
       "      <td>12585</td>\n",
       "      <td>113559</td>\n",
       "      <td>6095</td>\n",
       "      <td>2606</td>\n",
       "      <td>91677</td>\n",
       "    </tr>\n",
       "    <tr>\n",
       "      <th>3</th>\n",
       "      <td>00839a3507ab168abe75</td>\n",
       "      <td>Comedy, Ecchi, Fantasy, School</td>\n",
       "      <td>星刻の竜騎士</td>\n",
       "      <td>TV</td>\n",
       "      <td>12</td>\n",
       "      <td>Apr 5, 2014 to Jun 21, 2014</td>\n",
       "      <td>Media Factory, AT-X, Sony Music Communications...</td>\n",
       "      <td>Funimation</td>\n",
       "      <td>C-Station</td>\n",
       "      <td>Light novel</td>\n",
       "      <td>24 min. per ep.</td>\n",
       "      <td>R+ - Mild Nudity</td>\n",
       "      <td>170220</td>\n",
       "      <td>8723</td>\n",
       "      <td>118202</td>\n",
       "      <td>3753</td>\n",
       "      <td>8034</td>\n",
       "      <td>31508</td>\n",
       "    </tr>\n",
       "    <tr>\n",
       "      <th>4</th>\n",
       "      <td>0192331235e110fe4f76</td>\n",
       "      <td>Comedy, Harem, Romance, Sci-Fi, Shounen, Space</td>\n",
       "      <td>天地無用！</td>\n",
       "      <td>TV</td>\n",
       "      <td>26</td>\n",
       "      <td>Apr 2, 1995 to Sep 24, 1995</td>\n",
       "      <td>TV Tokyo, Pioneer LDC</td>\n",
       "      <td>Funimation, Geneon Entertainment USA</td>\n",
       "      <td>AIC</td>\n",
       "      <td>Original</td>\n",
       "      <td>23 min. per ep.</td>\n",
       "      <td>PG-13 - Teens 13 or older</td>\n",
       "      <td>62599</td>\n",
       "      <td>2565</td>\n",
       "      <td>39890</td>\n",
       "      <td>2093</td>\n",
       "      <td>1986</td>\n",
       "      <td>16065</td>\n",
       "    </tr>\n",
       "  </tbody>\n",
       "</table>\n",
       "</div>"
      ],
      "text/plain": [
       "               anime_id                                             genres  \\\n",
       "0  000ba7f7e34e107e7544       Comedy, Sci-Fi, Seinen, Slice of Life, Space   \n",
       "1  00427279d72064e7fb69  Adventure, Slice of Life, Mystery, Historical,...   \n",
       "2  00444b67aaabdf740a68  Adventure, Slice of Life, Mystery, Historical,...   \n",
       "3  00839a3507ab168abe75                     Comedy, Ecchi, Fantasy, School   \n",
       "4  0192331235e110fe4f76     Comedy, Harem, Romance, Sci-Fi, Shounen, Space   \n",
       "\n",
       "  japanese_name type episodes                         aired  \\\n",
       "0          宇宙兄弟   TV       99   Apr 1, 2012 to Mar 22, 2014   \n",
       "1            蟲師   TV       26  Oct 23, 2005 to Jun 19, 2006   \n",
       "2         蟲師 続章   TV       10   Apr 5, 2014 to Jun 21, 2014   \n",
       "3        星刻の竜騎士   TV       12   Apr 5, 2014 to Jun 21, 2014   \n",
       "4         天地無用！   TV       26   Apr 2, 1995 to Sep 24, 1995   \n",
       "\n",
       "                                           producers  \\\n",
       "0                Aniplex, Dentsu, YTV, Trinity Sound   \n",
       "1  Avex Entertainment, Marvelous, SKY Perfect Wel...   \n",
       "2                     Aniplex, Kodansha, Delfi Sound   \n",
       "3  Media Factory, AT-X, Sony Music Communications...   \n",
       "4                              TV Tokyo, Pioneer LDC   \n",
       "\n",
       "                              licensors       studios       source  \\\n",
       "0                      Sentai Filmworks  A-1 Pictures        Manga   \n",
       "1                            Funimation       Artland        Manga   \n",
       "2                    Aniplex of America       Artland        Manga   \n",
       "3                            Funimation     C-Station  Light novel   \n",
       "4  Funimation, Geneon Entertainment USA           AIC     Original   \n",
       "\n",
       "          duration                     rating  members  watching  completed  \\\n",
       "0  24 min. per ep.  PG-13 - Teens 13 or older   150428     16552      37234   \n",
       "1  25 min. per ep.  PG-13 - Teens 13 or older   620736     55482     235371   \n",
       "2  24 min. per ep.  PG-13 - Teens 13 or older   226522     12585     113559   \n",
       "3  24 min. per ep.           R+ - Mild Nudity   170220      8723     118202   \n",
       "4  23 min. per ep.  PG-13 - Teens 13 or older    62599      2565      39890   \n",
       "\n",
       "   on_hold  dropped  plan_to_watch  \n",
       "0    13009     6948          76685  \n",
       "1    42786    20017         267080  \n",
       "2     6095     2606          91677  \n",
       "3     3753     8034          31508  \n",
       "4     2093     1986          16065  "
      ]
     },
     "metadata": {},
     "output_type": "display_data"
    },
    {
     "name": "stdout",
     "output_type": "stream",
     "text": [
      "■ submission\n"
     ]
    },
    {
     "data": {
      "text/html": [
       "<div>\n",
       "<style scoped>\n",
       "    .dataframe tbody tr th:only-of-type {\n",
       "        vertical-align: middle;\n",
       "    }\n",
       "\n",
       "    .dataframe tbody tr th {\n",
       "        vertical-align: top;\n",
       "    }\n",
       "\n",
       "    .dataframe thead th {\n",
       "        text-align: right;\n",
       "    }\n",
       "</style>\n",
       "<table border=\"1\" class=\"dataframe\">\n",
       "  <thead>\n",
       "    <tr style=\"text-align: right;\">\n",
       "      <th></th>\n",
       "      <th>score</th>\n",
       "    </tr>\n",
       "  </thead>\n",
       "  <tbody>\n",
       "    <tr>\n",
       "      <th>0</th>\n",
       "      <td>6.478691</td>\n",
       "    </tr>\n",
       "    <tr>\n",
       "      <th>1</th>\n",
       "      <td>2.513589</td>\n",
       "    </tr>\n",
       "    <tr>\n",
       "      <th>2</th>\n",
       "      <td>2.212736</td>\n",
       "    </tr>\n",
       "    <tr>\n",
       "      <th>3</th>\n",
       "      <td>6.608664</td>\n",
       "    </tr>\n",
       "    <tr>\n",
       "      <th>4</th>\n",
       "      <td>6.339157</td>\n",
       "    </tr>\n",
       "  </tbody>\n",
       "</table>\n",
       "</div>"
      ],
      "text/plain": [
       "      score\n",
       "0  6.478691\n",
       "1  2.513589\n",
       "2  2.212736\n",
       "3  6.608664\n",
       "4  6.339157"
      ]
     },
     "metadata": {},
     "output_type": "display_data"
    }
   ],
   "source": [
    "print('■ train')\n",
    "display(train_df.head())\n",
    "print('■ test')\n",
    "display(test_df.head())\n",
    "print('■ anime')\n",
    "display(anime_df.head())\n",
    "print('■ submission')\n",
    "display(sub_df.head())\n"
   ]
  },
  {
   "cell_type": "code",
   "execution_count": 4,
   "metadata": {},
   "outputs": [
    {
     "name": "stdout",
     "output_type": "stream",
     "text": [
      "■ train\n",
      "<class 'pandas.core.frame.DataFrame'>\n",
      "RangeIndex: 136401 entries, 0 to 136400\n",
      "Data columns (total 3 columns):\n",
      " #   Column    Non-Null Count   Dtype \n",
      "---  ------    --------------   ----- \n",
      " 0   user_id   136401 non-null  object\n",
      " 1   anime_id  136401 non-null  object\n",
      " 2   score     136401 non-null  int64 \n",
      "dtypes: int64(1), object(2)\n",
      "memory usage: 3.1+ MB\n"
     ]
    },
    {
     "data": {
      "text/plain": [
       "None"
      ]
     },
     "metadata": {},
     "output_type": "display_data"
    },
    {
     "name": "stdout",
     "output_type": "stream",
     "text": [
      "■ test\n",
      "<class 'pandas.core.frame.DataFrame'>\n",
      "RangeIndex: 117676 entries, 0 to 117675\n",
      "Data columns (total 2 columns):\n",
      " #   Column    Non-Null Count   Dtype \n",
      "---  ------    --------------   ----- \n",
      " 0   user_id   117676 non-null  object\n",
      " 1   anime_id  117676 non-null  object\n",
      "dtypes: object(2)\n",
      "memory usage: 1.8+ MB\n"
     ]
    },
    {
     "data": {
      "text/plain": [
       "None"
      ]
     },
     "metadata": {},
     "output_type": "display_data"
    },
    {
     "name": "stdout",
     "output_type": "stream",
     "text": [
      "■ anime\n",
      "<class 'pandas.core.frame.DataFrame'>\n",
      "RangeIndex: 2000 entries, 0 to 1999\n",
      "Data columns (total 18 columns):\n",
      " #   Column         Non-Null Count  Dtype \n",
      "---  ------         --------------  ----- \n",
      " 0   anime_id       2000 non-null   object\n",
      " 1   genres         2000 non-null   object\n",
      " 2   japanese_name  2000 non-null   object\n",
      " 3   type           2000 non-null   object\n",
      " 4   episodes       2000 non-null   object\n",
      " 5   aired          2000 non-null   object\n",
      " 6   producers      2000 non-null   object\n",
      " 7   licensors      2000 non-null   object\n",
      " 8   studios        2000 non-null   object\n",
      " 9   source         2000 non-null   object\n",
      " 10  duration       2000 non-null   object\n",
      " 11  rating         2000 non-null   object\n",
      " 12  members        2000 non-null   int64 \n",
      " 13  watching       2000 non-null   int64 \n",
      " 14  completed      2000 non-null   int64 \n",
      " 15  on_hold        2000 non-null   int64 \n",
      " 16  dropped        2000 non-null   int64 \n",
      " 17  plan_to_watch  2000 non-null   int64 \n",
      "dtypes: int64(6), object(12)\n",
      "memory usage: 281.4+ KB\n"
     ]
    },
    {
     "data": {
      "text/plain": [
       "None"
      ]
     },
     "metadata": {},
     "output_type": "display_data"
    }
   ],
   "source": [
    "print('■ train')\n",
    "display(train_df.info())\n",
    "print('■ test')\n",
    "display(test_df.info())\n",
    "print('■ anime')\n",
    "display(anime_df.info())\n"
   ]
  },
  {
   "cell_type": "code",
   "execution_count": 5,
   "metadata": {},
   "outputs": [
    {
     "data": {
      "image/png": "[encoded data removed]",
      "text/plain": [
       "<Figure size 1500x1200 with 21 Axes>"
      ]
     },
     "metadata": {},
     "output_type": "display_data"
    }
   ],
   "source": [
    "train_df = train_df.merge(anime_df, how=\"left\", on=\"anime_id\")\n",
    "test_df = test_df.merge(anime_df, how=\"left\", on=\"anime_id\")\n",
    "\n",
    "draw_venn2(train_df, test_df, rows=3, columns=7, x_size=15, y_size=12)\n"
   ]
  },
  {
   "cell_type": "markdown",
   "metadata": {},
   "source": [
    "### target"
   ]
  },
  {
   "cell_type": "code",
   "execution_count": 6,
   "metadata": {},
   "outputs": [
    {
     "data": {
      "text/plain": [
       "<Axes: >"
      ]
     },
     "execution_count": 6,
     "metadata": {},
     "output_type": "execute_result"
    },
    {
     "data": {
      "image/png": "[encoded data removed]",
      "text/plain": [
       "<Figure size 600x300 with 1 Axes>"
      ]
     },
     "metadata": {},
     "output_type": "display_data"
    }
   ],
   "source": [
    "train_df[cfg.target].hist(bins=10, figsize=(6, 3))\n"
   ]
  },
  {
   "cell_type": "code",
   "execution_count": 7,
   "metadata": {},
   "outputs": [
    {
     "data": {
      "text/plain": [
       "user_id\n",
       "61c04a903417d6ed0500    326\n",
       "87e8bf4369b122472f54    320\n",
       "66e8ad1b15e37ffe34d8    310\n",
       "445bd5c54308fc81763d    297\n",
       "201b3dde31e826ba2030    296\n",
       "                       ... \n",
       "f0cf163dc9f6df380958      1\n",
       "d7b6bf8a99fdd3889579      1\n",
       "d747358f72dd5774d845      1\n",
       "a0ea782492772a5e05f7      1\n",
       "bf3cbfa1d3b161eaf3e8      1\n",
       "Name: count, Length: 1794, dtype: int64"
      ]
     },
     "metadata": {},
     "output_type": "display_data"
    },
    {
     "data": {
      "text/plain": [
       "anime_id\n",
       "a5ccc0a38f18f309d4f3    641\n",
       "35d87d3bdeed620ef335    604\n",
       "e97089fa8701bdc3bd6b    563\n",
       "a707c12cacdeb5c5ccec    504\n",
       "4819655fa52cbafe9c8b    476\n",
       "                       ... \n",
       "56ac71e01ef6a09ca869      3\n",
       "7937a8344408e7f5f783      3\n",
       "71ce770d58dc410571f8      1\n",
       "867934bc2a611a8423da      1\n",
       "1e9b3a43745594039e42      1\n",
       "Name: count, Length: 1954, dtype: int64"
      ]
     },
     "metadata": {},
     "output_type": "display_data"
    },
    {
     "data": {
      "text/plain": [
       "score\n",
       "8     38214\n",
       "7     29670\n",
       "9     27061\n",
       "10    18037\n",
       "6     13211\n",
       "5      5761\n",
       "4      2425\n",
       "3      1017\n",
       "2       520\n",
       "1       485\n",
       "Name: count, dtype: int64"
      ]
     },
     "metadata": {},
     "output_type": "display_data"
    },
    {
     "data": {
      "text/plain": [
       "genres\n",
       "Action, Game, Adventure, Romance, Fantasy                          1310\n",
       "Action, Military, Mystery, Super Power, Drama, Fantasy, Shounen    1220\n",
       "Slice of Life, Comedy, Drama, Romance, School                      1163\n",
       "Ecchi, School, Shounen                                             1024\n",
       "Slice of Life, Comedy                                               906\n",
       "                                                                   ... \n",
       "Action, Drama, Romance, Sci-Fi                                        5\n",
       "Demons, Fantasy, Magic, Supernatural                                  4\n",
       "Harem, Comedy, Supernatural, Romance, Ecchi, School, Shounen          3\n",
       "Mystery, Drama                                                        3\n",
       "Sci-Fi, Mystery, Psychological, Thriller, Shounen                     1\n",
       "Name: count, Length: 1316, dtype: int64"
      ]
     },
     "metadata": {},
     "output_type": "display_data"
    },
    {
     "data": {
      "text/plain": [
       "japanese_name\n",
       "僕のヒーローアカデミア      1107\n",
       "ワンパンマン            754\n",
       "デスノート             641\n",
       "進撃の巨人             604\n",
       "ソードアート・オンライン      563\n",
       "                 ... \n",
       "戦×恋（ヴァルラヴ）          3\n",
       "エンドライド              3\n",
       "池袋ウエストゲートパーク        3\n",
       "生徒会役員共＊ OAD         1\n",
       "ヲタクに恋は難しい OAD       1\n",
       "Name: count, Length: 1892, dtype: int64"
      ]
     },
     "metadata": {},
     "output_type": "display_data"
    },
    {
     "data": {
      "text/plain": [
       "type\n",
       "TV         106114\n",
       "Movie       17670\n",
       "OVA          6219\n",
       "Special      4484\n",
       "ONA          1792\n",
       "Music         122\n",
       "Name: count, dtype: int64"
      ]
     },
     "metadata": {},
     "output_type": "display_data"
    },
    {
     "data": {
      "text/plain": [
       "episodes\n",
       "12     40998\n",
       "1      23504\n",
       "13     18292\n",
       "24     10641\n",
       "25      9166\n",
       "       ...  \n",
       "100       14\n",
       "109       11\n",
       "147       11\n",
       "76         7\n",
       "146        5\n",
       "Name: count, Length: 93, dtype: int64"
      ]
     },
     "metadata": {},
     "output_type": "display_data"
    },
    {
     "data": {
      "text/plain": [
       "aired\n",
       "Jan 10, 2012 to Mar 27, 2012    644\n",
       "Oct 4, 2006 to Jun 27, 2007     641\n",
       "Oct 4, 2013 to Mar 28, 2014     608\n",
       "Apr 7, 2013 to Sep 29, 2013     604\n",
       "Apr 5, 2006 to Sep 27, 2006     596\n",
       "                               ... \n",
       "Sep 18, 2020                      4\n",
       "Oct 5, 2019 to Dec 21, 2019       3\n",
       "May 16, 2014 to Sep 17, 2020      1\n",
       "Jan 8, 2021 to ?                  1\n",
       "Mar 29, 2019 to Feb 26, 2021      1\n",
       "Name: count, Length: 1626, dtype: int64"
      ]
     },
     "metadata": {},
     "output_type": "display_data"
    },
    {
     "data": {
      "text/plain": [
       "producers\n",
       "Unknown                                                                                                              8521\n",
       "Aniplex                                                                                                              2040\n",
       "Aniplex, Kodansha                                                                                                    1074\n",
       "Fuji TV                                                                                                               984\n",
       "Production I.G, Dentsu, Mainichi Broadcasting System, Pony Canyon, Kodansha, Techno Sound, Pony Canyon Enterprise     841\n",
       "                                                                                                                     ... \n",
       "Aniplex, Houbunsha, Kansai Telecasting, Lawson, Kinoshita Group Holdings, Drecom                                        5\n",
       "Asmik Ace, Cygames, Happinet                                                                                            4\n",
       "VAP, Nippon Television Network, Nippon Television Music, Takara Tomy A.R.T.S, CyberAgent, Forecast Communications       3\n",
       "Square Enix, Sotsu, AT-X, Tokyo MX, Avex Pictures, Docomo Anime Store, BS11, GYAO!, A-Sketch, MAGNET, entama            3\n",
       "Aniplex, Half H.P Studio, Fujipacific Music                                                                             1\n",
       "Name: count, Length: 1380, dtype: int64"
      ]
     },
     "metadata": {},
     "output_type": "display_data"
    },
    {
     "data": {
      "text/plain": [
       "licensors\n",
       "Funimation                                               36510\n",
       "Sentai Filmworks                                         25221\n",
       "Unknown                                                  15685\n",
       "Aniplex of America                                       14294\n",
       "VIZ Media                                                 7177\n",
       "                                                         ...  \n",
       "Bandai, Sentai Filmworks                                    15\n",
       "Nozomi Entertainment, Bandai Entertainment, NYAV Post       14\n",
       "Super Techno Arts                                           13\n",
       "Funimation, NBCUniversal Entertainment Japan                10\n",
       "Discotek Media, Ponycan USA                                  9\n",
       "Name: count, Length: 133, dtype: int64"
      ]
     },
     "metadata": {},
     "output_type": "display_data"
    },
    {
     "data": {
      "text/plain": [
       "studios\n",
       "Madhouse                                            9067\n",
       "A-1 Pictures                                        8447\n",
       "J.C.Staff                                           8150\n",
       "Bones                                               6748\n",
       "Kyoto Animation                                     6043\n",
       "                                                    ... \n",
       "TMS Entertainment, Shin-Ei Animation                   8\n",
       "B.CMAY PICTURES, Colored-Pencil Animation Design       8\n",
       "Production I.G, Trans Arts                             8\n",
       "Production I.G, Nut, Revoroot                          6\n",
       "A-1 Pictures, Lapin Track                              1\n",
       "Name: count, Length: 265, dtype: int64"
      ]
     },
     "metadata": {},
     "output_type": "display_data"
    },
    {
     "data": {
      "text/plain": [
       "source\n",
       "Manga            60830\n",
       "Light novel      31278\n",
       "Original         21516\n",
       "Visual novel      7122\n",
       "Web manga         3779\n",
       "4-koma manga      3652\n",
       "Novel             3522\n",
       "Game              2964\n",
       "Other             1184\n",
       "Music              294\n",
       "Card game          162\n",
       "Book                61\n",
       "Digital manga       37\n",
       "Name: count, dtype: int64"
      ]
     },
     "metadata": {},
     "output_type": "display_data"
    },
    {
     "data": {
      "text/plain": [
       "duration\n",
       "24 min. per ep.         60941\n",
       "23 min. per ep.         32468\n",
       "25 min. per ep.          7569\n",
       "22 min. per ep.          4716\n",
       "24 min.                  1382\n",
       "                        ...  \n",
       "1 hr. 2 min. per ep.       14\n",
       "35 min. per ep.            13\n",
       "2 hr. 16 min.              12\n",
       "2 hr. 20 min.              10\n",
       "2 hr. 2 min.                9\n",
       "Name: count, Length: 150, dtype: int64"
      ]
     },
     "metadata": {},
     "output_type": "display_data"
    },
    {
     "data": {
      "text/plain": [
       "rating\n",
       "PG-13 - Teens 13 or older         81769\n",
       "R - 17+ (violence & profanity)    35779\n",
       "R+ - Mild Nudity                  13454\n",
       "PG - Children                      2768\n",
       "G - All Ages                       2564\n",
       "Rx - Hentai                          53\n",
       "Unknown                              14\n",
       "Name: count, dtype: int64"
      ]
     },
     "metadata": {},
     "output_type": "display_data"
    },
    {
     "data": {
      "text/plain": [
       "members\n",
       "2589552    641\n",
       "2531397    604\n",
       "2214395    563\n",
       "2123866    504\n",
       "1591773    476\n",
       "          ... \n",
       "61776        3\n",
       "66395        3\n",
       "62844        1\n",
       "482725       1\n",
       "90626        1\n",
       "Name: count, Length: 1949, dtype: int64"
      ]
     },
     "metadata": {},
     "output_type": "display_data"
    },
    {
     "data": {
      "text/plain": [
       "watching\n",
       "122401    641\n",
       "140753    604\n",
       "80304     563\n",
       "41249     518\n",
       "96568     504\n",
       "         ... \n",
       "7547        3\n",
       "11081       3\n",
       "24871       1\n",
       "260775      1\n",
       "46279       1\n",
       "Name: count, Length: 1858, dtype: int64"
      ]
     },
     "metadata": {},
     "output_type": "display_data"
    },
    {
     "data": {
      "text/plain": [
       "completed\n",
       "2146116    641\n",
       "2182587    604\n",
       "1907261    563\n",
       "1841220    504\n",
       "1229098    476\n",
       "          ... \n",
       "24662        3\n",
       "18894        3\n",
       "7413         1\n",
       "60           1\n",
       "327          1\n",
       "Name: count, Length: 1949, dtype: int64"
      ]
     },
     "metadata": {},
     "output_type": "display_data"
    },
    {
     "data": {
      "text/plain": [
       "on_hold\n",
       "75054    641\n",
       "37345    604\n",
       "25632    563\n",
       "3124     531\n",
       "30271    504\n",
       "        ... \n",
       "2038       3\n",
       "2108       3\n",
       "8019       1\n",
       "6458       1\n",
       "10053      1\n",
       "Name: count, Length: 1782, dtype: int64"
      ]
     },
     "metadata": {},
     "output_type": "display_data"
    },
    {
     "data": {
      "text/plain": [
       "dropped\n",
       "80834    641\n",
       "44635    604\n",
       "90661    563\n",
       "26755    504\n",
       "38209    476\n",
       "        ... \n",
       "8442       3\n",
       "16759      3\n",
       "6603       3\n",
       "6966       1\n",
       "857        1\n",
       "Name: count, Length: 1782, dtype: int64"
      ]
     },
     "metadata": {},
     "output_type": "display_data"
    },
    {
     "data": {
      "text/plain": [
       "plan_to_watch\n",
       "165147    641\n",
       "126077    604\n",
       "110537    563\n",
       "129052    504\n",
       "234430    476\n",
       "         ... \n",
       "18647       3\n",
       "27709       3\n",
       "21037       1\n",
       "208466      1\n",
       "33110       1\n",
       "Name: count, Length: 1932, dtype: int64"
      ]
     },
     "metadata": {},
     "output_type": "display_data"
    }
   ],
   "source": [
    "for c in train_df.columns:\n",
    "    display(train_df[c].value_counts(dropna=False))\n"
   ]
  },
  {
   "cell_type": "code",
   "execution_count": null,
   "metadata": {},
   "outputs": [],
   "source": []
  }
 ],
 "metadata": {
  "kernelspec": {
   "display_name": ".venv",
   "language": "python",
   "name": "python3"
  },
  "language_info": {
   "codemirror_mode": {
    "name": "ipython",
    "version": 3
   },
   "file_extension": ".py",
   "mimetype": "text/x-python",
   "name": "python",
   "nbconvert_exporter": "python",
   "pygments_lexer": "ipython3",
   "version": "3.12.3"
  }
 },
 "nbformat": 4,
 "nbformat_minor": 2
}
