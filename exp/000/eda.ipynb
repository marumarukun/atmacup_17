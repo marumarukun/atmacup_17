{
 "cells": [
  {
   "cell_type": "code",
   "execution_count": 25,
   "metadata": {},
   "outputs": [],
   "source": [
    "from pathlib import Path\n",
    "\n",
    "import numpy as np\n",
    "import pandas as pd\n",
    "import polars as pl\n",
    "import seaborn as sns\n",
    "from hydra import compose, initialize\n",
    "from matplotlib import pyplot as plt\n",
    "from matplotlib_venn import venn2\n",
    "\n",
    "pl.Config.set_fmt_str_lengths(100)\n",
    "\n",
    "\n",
    "def draw_venn2(train, test, rows, columns, x_size, y_size):\n",
    "    fig, axes = plt.subplots(rows, columns, figsize=(x_size, y_size))\n",
    "    column_names = test.columns\n",
    "    for col, ax in zip(column_names, axes.ravel(), strict=False):\n",
    "        venn2(\n",
    "            subsets=(set(train[col].dropna().unique()), set(test[col].dropna().unique())),\n",
    "            set_labels=(\"train\", \"test\"),\n",
    "            ax=ax,\n",
    "        )\n",
    "        ax.set_title(col)\n",
    "    fig.tight_layout()\n",
    "\n",
    "\n",
    "with initialize(config_path=\"config\", version_base=None):\n",
    "    cfg = compose(config_name=\"config\")\n",
    "    cfg.exp_number = Path().resolve().name\n"
   ]
  },
  {
   "cell_type": "code",
   "execution_count": 26,
   "metadata": {},
   "outputs": [],
   "source": [
    "train_df = pl.read_csv(cfg.data.train_path, try_parse_dates=True)\n",
    "cloth_df = pl.read_csv(cfg.data.cloth_path, try_parse_dates=True)\n",
    "test_df = pl.read_csv(cfg.data.test_path, try_parse_dates=True)\n",
    "# sub_df = pl.read_csv(cfg.data.sample_submission_path)\n"
   ]
  },
  {
   "cell_type": "code",
   "execution_count": 27,
   "metadata": {},
   "outputs": [
    {
     "name": "stdout",
     "output_type": "stream",
     "text": [
      "■ train\n"
     ]
    },
    {
     "data": {
      "text/html": [
       "<div><style>\n",
       ".dataframe > thead > tr,\n",
       ".dataframe > tbody > tr {\n",
       "  text-align: right;\n",
       "  white-space: pre-wrap;\n",
       "}\n",
       "</style>\n",
       "<small>shape: (5, 7)</small><table border=\"1\" class=\"dataframe\"><thead><tr><th>Clothing ID</th><th>Age</th><th>Title</th><th>Review Text</th><th>Rating</th><th>Recommended IND</th><th>Positive Feedback Count</th></tr><tr><td>i64</td><td>i64</td><td>str</td><td>str</td><td>i64</td><td>i64</td><td>i64</td></tr></thead><tbody><tr><td>0</td><td>25</td><td>&quot;3-season skirt!&quot;</td><td>&quot;Adorable, well-made skirt! lined and very slimming. i had to size up b/c it runs a bit snug around t…</td><td>5</td><td>1</td><td>4</td></tr><tr><td>0</td><td>39</td><td>&quot;Very cute&quot;</td><td>&quot;Love the asymmetrical hem. waist fit snugly as in perfectly. it ties in two spots with a hidden zipp…</td><td>5</td><td>1</td><td>0</td></tr><tr><td>0</td><td>42</td><td>&quot;Beautiful! fruns small for typical retailer sizing&quot;</td><td>&quot;I love this skirt! i wasn&#x27;t sure about the mix of the back pattern with the front but it works! it i…</td><td>5</td><td>1</td><td>5</td></tr><tr><td>0</td><td>45</td><td>null</td><td>&quot;I was really pleased with this skirt. the lightness of the fabric is nice and the colors matched the…</td><td>5</td><td>1</td><td>9</td></tr><tr><td>0</td><td>57</td><td>&quot;Unique, pretty asymmetric skirt&quot;</td><td>&quot;I saw this skirt in retailer several months ago and while it caught my eye, it was pricey. so i wait…</td><td>5</td><td>1</td><td>1</td></tr></tbody></table></div>"
      ],
      "text/plain": [
       "shape: (5, 7)\n",
       "┌─────────────┬─────┬──────────────────┬──────────────────┬────────┬─────────────┬─────────────────┐\n",
       "│ Clothing ID ┆ Age ┆ Title            ┆ Review Text      ┆ Rating ┆ Recommended ┆ Positive        │\n",
       "│ ---         ┆ --- ┆ ---              ┆ ---              ┆ ---    ┆ IND         ┆ Feedback Count  │\n",
       "│ i64         ┆ i64 ┆ str              ┆ str              ┆ i64    ┆ ---         ┆ ---             │\n",
       "│             ┆     ┆                  ┆                  ┆        ┆ i64         ┆ i64             │\n",
       "╞═════════════╪═════╪══════════════════╪══════════════════╪════════╪═════════════╪═════════════════╡\n",
       "│ 0           ┆ 25  ┆ 3-season skirt!  ┆ Adorable,        ┆ 5      ┆ 1           ┆ 4               │\n",
       "│             ┆     ┆                  ┆ well-made skirt! ┆        ┆             ┆                 │\n",
       "│             ┆     ┆                  ┆ lined and very   ┆        ┆             ┆                 │\n",
       "│             ┆     ┆                  ┆ slimming. i had  ┆        ┆             ┆                 │\n",
       "│             ┆     ┆                  ┆ to size up b/c   ┆        ┆             ┆                 │\n",
       "│             ┆     ┆                  ┆ it runs a bit    ┆        ┆             ┆                 │\n",
       "│             ┆     ┆                  ┆ snug around t…   ┆        ┆             ┆                 │\n",
       "│ 0           ┆ 39  ┆ Very cute        ┆ Love the         ┆ 5      ┆ 1           ┆ 0               │\n",
       "│             ┆     ┆                  ┆ asymmetrical     ┆        ┆             ┆                 │\n",
       "│             ┆     ┆                  ┆ hem. waist fit   ┆        ┆             ┆                 │\n",
       "│             ┆     ┆                  ┆ snugly as in     ┆        ┆             ┆                 │\n",
       "│             ┆     ┆                  ┆ perfectly. it    ┆        ┆             ┆                 │\n",
       "│             ┆     ┆                  ┆ ties in two      ┆        ┆             ┆                 │\n",
       "│             ┆     ┆                  ┆ spots with a     ┆        ┆             ┆                 │\n",
       "│             ┆     ┆                  ┆ hidden zipp…     ┆        ┆             ┆                 │\n",
       "│ 0           ┆ 42  ┆ Beautiful! fruns ┆ I love this      ┆ 5      ┆ 1           ┆ 5               │\n",
       "│             ┆     ┆ small for        ┆ skirt! i wasn't  ┆        ┆             ┆                 │\n",
       "│             ┆     ┆ typical retailer ┆ sure about the   ┆        ┆             ┆                 │\n",
       "│             ┆     ┆ sizing           ┆ mix of the back  ┆        ┆             ┆                 │\n",
       "│             ┆     ┆                  ┆ pattern with the ┆        ┆             ┆                 │\n",
       "│             ┆     ┆                  ┆ front but it     ┆        ┆             ┆                 │\n",
       "│             ┆     ┆                  ┆ works! it i…     ┆        ┆             ┆                 │\n",
       "│ 0           ┆ 45  ┆ null             ┆ I was really     ┆ 5      ┆ 1           ┆ 9               │\n",
       "│             ┆     ┆                  ┆ pleased with     ┆        ┆             ┆                 │\n",
       "│             ┆     ┆                  ┆ this skirt. the  ┆        ┆             ┆                 │\n",
       "│             ┆     ┆                  ┆ lightness of the ┆        ┆             ┆                 │\n",
       "│             ┆     ┆                  ┆ fabric is nice   ┆        ┆             ┆                 │\n",
       "│             ┆     ┆                  ┆ and the colors   ┆        ┆             ┆                 │\n",
       "│             ┆     ┆                  ┆ matched the…     ┆        ┆             ┆                 │\n",
       "│ 0           ┆ 57  ┆ Unique, pretty   ┆ I saw this skirt ┆ 5      ┆ 1           ┆ 1               │\n",
       "│             ┆     ┆ asymmetric skirt ┆ in retailer      ┆        ┆             ┆                 │\n",
       "│             ┆     ┆                  ┆ several months   ┆        ┆             ┆                 │\n",
       "│             ┆     ┆                  ┆ ago and while it ┆        ┆             ┆                 │\n",
       "│             ┆     ┆                  ┆ caught my eye,   ┆        ┆             ┆                 │\n",
       "│             ┆     ┆                  ┆ it was pricey.   ┆        ┆             ┆                 │\n",
       "│             ┆     ┆                  ┆ so i wait…       ┆        ┆             ┆                 │\n",
       "└─────────────┴─────┴──────────────────┴──────────────────┴────────┴─────────────┴─────────────────┘"
      ]
     },
     "metadata": {},
     "output_type": "display_data"
    },
    {
     "name": "stdout",
     "output_type": "stream",
     "text": [
      "■ test\n"
     ]
    },
    {
     "data": {
      "text/html": [
       "<div><style>\n",
       ".dataframe > thead > tr,\n",
       ".dataframe > tbody > tr {\n",
       "  text-align: right;\n",
       "  white-space: pre-wrap;\n",
       "}\n",
       "</style>\n",
       "<small>shape: (5, 5)</small><table border=\"1\" class=\"dataframe\"><thead><tr><th>Clothing ID</th><th>Age</th><th>Title</th><th>Review Text</th><th>Positive Feedback Count</th></tr><tr><td>i64</td><td>i64</td><td>str</td><td>str</td><td>i64</td></tr></thead><tbody><tr><td>0</td><td>32</td><td>&quot;So happy i bought this skirt!&quot;</td><td>&quot;I love this skirt. it does run a little small, i ordered an extra small and it is tight at the waist…</td><td>0</td></tr><tr><td>0</td><td>34</td><td>&quot;Runs small&quot;</td><td>&quot;Beautiful patterns and colors, but it sits very high and runs small. i&#x27;m normally a size 4 and got t…</td><td>0</td></tr><tr><td>0</td><td>37</td><td>&quot;Love the comfort of thi skirt&quot;</td><td>&quot;It is easily paired with a nice tip for work and feels great to wear all day&quot;</td><td>0</td></tr><tr><td>0</td><td>39</td><td>&quot;Way too small&quot;</td><td>&quot;This is a beautiful skirt, but runs very small. i usually wear a size 8 and could not get the side z…</td><td>10</td></tr><tr><td>0</td><td>39</td><td>null</td><td>&quot;I usually wear a size 8/10 and i needed a large in this skirt. it flows so beautifully!&quot;</td><td>0</td></tr></tbody></table></div>"
      ],
      "text/plain": [
       "shape: (5, 5)\n",
       "┌─────────────┬─────┬──────────────────────────┬─────────────────────────┬─────────────────────────┐\n",
       "│ Clothing ID ┆ Age ┆ Title                    ┆ Review Text             ┆ Positive Feedback Count │\n",
       "│ ---         ┆ --- ┆ ---                      ┆ ---                     ┆ ---                     │\n",
       "│ i64         ┆ i64 ┆ str                      ┆ str                     ┆ i64                     │\n",
       "╞═════════════╪═════╪══════════════════════════╪═════════════════════════╪═════════════════════════╡\n",
       "│ 0           ┆ 32  ┆ So happy i bought this   ┆ I love this skirt. it   ┆ 0                       │\n",
       "│             ┆     ┆ skirt!                   ┆ does run a little       ┆                         │\n",
       "│             ┆     ┆                          ┆ small, i ordered an     ┆                         │\n",
       "│             ┆     ┆                          ┆ extra small and it is   ┆                         │\n",
       "│             ┆     ┆                          ┆ tight at the waist…     ┆                         │\n",
       "│ 0           ┆ 34  ┆ Runs small               ┆ Beautiful patterns and  ┆ 0                       │\n",
       "│             ┆     ┆                          ┆ colors, but it sits     ┆                         │\n",
       "│             ┆     ┆                          ┆ very high and runs      ┆                         │\n",
       "│             ┆     ┆                          ┆ small. i'm normally a   ┆                         │\n",
       "│             ┆     ┆                          ┆ size 4 and got t…       ┆                         │\n",
       "│ 0           ┆ 37  ┆ Love the comfort of thi  ┆ It is easily paired     ┆ 0                       │\n",
       "│             ┆     ┆ skirt                    ┆ with a nice tip for     ┆                         │\n",
       "│             ┆     ┆                          ┆ work and feels great to ┆                         │\n",
       "│             ┆     ┆                          ┆ wear all day            ┆                         │\n",
       "│ 0           ┆ 39  ┆ Way too small            ┆ This is a beautiful     ┆ 10                      │\n",
       "│             ┆     ┆                          ┆ skirt, but runs very    ┆                         │\n",
       "│             ┆     ┆                          ┆ small. i usually wear a ┆                         │\n",
       "│             ┆     ┆                          ┆ size 8 and could not    ┆                         │\n",
       "│             ┆     ┆                          ┆ get the side z…         ┆                         │\n",
       "│ 0           ┆ 39  ┆ null                     ┆ I usually wear a size   ┆ 0                       │\n",
       "│             ┆     ┆                          ┆ 8/10 and i needed a     ┆                         │\n",
       "│             ┆     ┆                          ┆ large in this skirt. it ┆                         │\n",
       "│             ┆     ┆                          ┆ flows so beautifully!   ┆                         │\n",
       "└─────────────┴─────┴──────────────────────────┴─────────────────────────┴─────────────────────────┘"
      ]
     },
     "metadata": {},
     "output_type": "display_data"
    },
    {
     "name": "stdout",
     "output_type": "stream",
     "text": [
      "■ cloth\n"
     ]
    },
    {
     "data": {
      "text/html": [
       "<div><style>\n",
       ".dataframe > thead > tr,\n",
       ".dataframe > tbody > tr {\n",
       "  text-align: right;\n",
       "  white-space: pre-wrap;\n",
       "}\n",
       "</style>\n",
       "<small>shape: (5, 4)</small><table border=\"1\" class=\"dataframe\"><thead><tr><th>Clothing ID</th><th>Division Name</th><th>Department Name</th><th>Class Name</th></tr><tr><td>i64</td><td>str</td><td>str</td><td>str</td></tr></thead><tbody><tr><td>0</td><td>&quot;General&quot;</td><td>&quot;Bottoms&quot;</td><td>&quot;Skirts&quot;</td></tr><tr><td>1</td><td>&quot;General&quot;</td><td>&quot;Bottoms&quot;</td><td>&quot;Pants&quot;</td></tr><tr><td>2</td><td>&quot;General&quot;</td><td>&quot;Tops&quot;</td><td>&quot;Sweaters&quot;</td></tr><tr><td>3</td><td>&quot;General&quot;</td><td>&quot;Dresses&quot;</td><td>&quot;Dresses&quot;</td></tr><tr><td>4</td><td>&quot;General&quot;</td><td>&quot;Dresses&quot;</td><td>&quot;Dresses&quot;</td></tr></tbody></table></div>"
      ],
      "text/plain": [
       "shape: (5, 4)\n",
       "┌─────────────┬───────────────┬─────────────────┬────────────┐\n",
       "│ Clothing ID ┆ Division Name ┆ Department Name ┆ Class Name │\n",
       "│ ---         ┆ ---           ┆ ---             ┆ ---        │\n",
       "│ i64         ┆ str           ┆ str             ┆ str        │\n",
       "╞═════════════╪═══════════════╪═════════════════╪════════════╡\n",
       "│ 0           ┆ General       ┆ Bottoms         ┆ Skirts     │\n",
       "│ 1           ┆ General       ┆ Bottoms         ┆ Pants      │\n",
       "│ 2           ┆ General       ┆ Tops            ┆ Sweaters   │\n",
       "│ 3           ┆ General       ┆ Dresses         ┆ Dresses    │\n",
       "│ 4           ┆ General       ┆ Dresses         ┆ Dresses    │\n",
       "└─────────────┴───────────────┴─────────────────┴────────────┘"
      ]
     },
     "metadata": {},
     "output_type": "display_data"
    }
   ],
   "source": [
    "print(\"■ train\")\n",
    "display(train_df.head())\n",
    "print(\"■ test\")\n",
    "display(test_df.head())\n",
    "print(\"■ cloth\")\n",
    "display(cloth_df.head())\n",
    "# print(\"■ submission\")\n",
    "# display(sub_df.head())\n"
   ]
  },
  {
   "cell_type": "code",
   "execution_count": 28,
   "metadata": {},
   "outputs": [
    {
     "name": "stdout",
     "output_type": "stream",
     "text": [
      "■ train\n"
     ]
    },
    {
     "data": {
      "text/html": [
       "<div><style>\n",
       ".dataframe > thead > tr,\n",
       ".dataframe > tbody > tr {\n",
       "  text-align: right;\n",
       "  white-space: pre-wrap;\n",
       "}\n",
       "</style>\n",
       "<small>shape: (9, 8)</small><table border=\"1\" class=\"dataframe\"><thead><tr><th>statistic</th><th>Clothing ID</th><th>Age</th><th>Title</th><th>Review Text</th><th>Rating</th><th>Recommended IND</th><th>Positive Feedback Count</th></tr><tr><td>str</td><td>f64</td><td>f64</td><td>str</td><td>str</td><td>f64</td><td>f64</td><td>f64</td></tr></thead><tbody><tr><td>&quot;count&quot;</td><td>10000.0</td><td>10000.0</td><td>&quot;8425&quot;</td><td>&quot;8720&quot;</td><td>10000.0</td><td>10000.0</td><td>10000.0</td></tr><tr><td>&quot;null_count&quot;</td><td>0.0</td><td>0.0</td><td>&quot;1575&quot;</td><td>&quot;1280&quot;</td><td>0.0</td><td>0.0</td><td>0.0</td></tr><tr><td>&quot;mean&quot;</td><td>123.6563</td><td>43.3936</td><td>null</td><td>null</td><td>4.1884</td><td>0.8202</td><td>2.6293</td></tr><tr><td>&quot;std&quot;</td><td>65.693931</td><td>12.319564</td><td>null</td><td>null</td><td>1.112668</td><td>0.38404</td><td>5.820728</td></tr><tr><td>&quot;min&quot;</td><td>0.0</td><td>18.0</td><td>&quot;&quot;go to&quot; tee for sz 10+ women&quot;</td><td>&quot;#childsize. not sure where this went wrong but it&#x27;s going back immediately. always wear a 0-2 in ret…</td><td>1.0</td><td>0.0</td><td>0.0</td></tr><tr><td>&quot;25%&quot;</td><td>65.0</td><td>34.0</td><td>null</td><td>null</td><td>4.0</td><td>1.0</td><td>0.0</td></tr><tr><td>&quot;50%&quot;</td><td>129.0</td><td>41.0</td><td>null</td><td>null</td><td>5.0</td><td>1.0</td><td>1.0</td></tr><tr><td>&quot;75%&quot;</td><td>170.0</td><td>52.0</td><td>null</td><td>null</td><td>5.0</td><td>1.0</td><td>3.0</td></tr><tr><td>&quot;max&quot;</td><td>232.0</td><td>99.0</td><td>&quot;~~so very retailer~~&quot;</td><td>&quot;You would expect anything woolen to be slightly scratchy. this is incredibly soft. i couldn&#x27;t belive…</td><td>5.0</td><td>1.0</td><td>99.0</td></tr></tbody></table></div>"
      ],
      "text/plain": [
       "shape: (9, 8)\n",
       "┌────────────┬────────────┬───────────┬────────────┬────────────┬──────────┬───────────┬───────────┐\n",
       "│ statistic  ┆ Clothing   ┆ Age       ┆ Title      ┆ Review     ┆ Rating   ┆ Recommend ┆ Positive  │\n",
       "│ ---        ┆ ID         ┆ ---       ┆ ---        ┆ Text       ┆ ---      ┆ ed IND    ┆ Feedback  │\n",
       "│ str        ┆ ---        ┆ f64       ┆ str        ┆ ---        ┆ f64      ┆ ---       ┆ Count     │\n",
       "│            ┆ f64        ┆           ┆            ┆ str        ┆          ┆ f64       ┆ ---       │\n",
       "│            ┆            ┆           ┆            ┆            ┆          ┆           ┆ f64       │\n",
       "╞════════════╪════════════╪═══════════╪════════════╪════════════╪══════════╪═══════════╪═══════════╡\n",
       "│ count      ┆ 10000.0    ┆ 10000.0   ┆ 8425       ┆ 8720       ┆ 10000.0  ┆ 10000.0   ┆ 10000.0   │\n",
       "│ null_count ┆ 0.0        ┆ 0.0       ┆ 1575       ┆ 1280       ┆ 0.0      ┆ 0.0       ┆ 0.0       │\n",
       "│ mean       ┆ 123.6563   ┆ 43.3936   ┆ null       ┆ null       ┆ 4.1884   ┆ 0.8202    ┆ 2.6293    │\n",
       "│ std        ┆ 65.693931  ┆ 12.319564 ┆ null       ┆ null       ┆ 1.112668 ┆ 0.38404   ┆ 5.820728  │\n",
       "│ min        ┆ 0.0        ┆ 18.0      ┆ \"go to\"    ┆ #childsize ┆ 1.0      ┆ 0.0       ┆ 0.0       │\n",
       "│            ┆            ┆           ┆ tee for sz ┆ . not sure ┆          ┆           ┆           │\n",
       "│            ┆            ┆           ┆ 10+ women  ┆ where this ┆          ┆           ┆           │\n",
       "│            ┆            ┆           ┆            ┆ went wrong ┆          ┆           ┆           │\n",
       "│            ┆            ┆           ┆            ┆ but it's   ┆          ┆           ┆           │\n",
       "│            ┆            ┆           ┆            ┆ going back ┆          ┆           ┆           │\n",
       "│            ┆            ┆           ┆            ┆ immediatel ┆          ┆           ┆           │\n",
       "│            ┆            ┆           ┆            ┆ y. always  ┆          ┆           ┆           │\n",
       "│            ┆            ┆           ┆            ┆ wear a 0-2 ┆          ┆           ┆           │\n",
       "│            ┆            ┆           ┆            ┆ in ret…    ┆          ┆           ┆           │\n",
       "│ 25%        ┆ 65.0       ┆ 34.0      ┆ null       ┆ null       ┆ 4.0      ┆ 1.0       ┆ 0.0       │\n",
       "│ 50%        ┆ 129.0      ┆ 41.0      ┆ null       ┆ null       ┆ 5.0      ┆ 1.0       ┆ 1.0       │\n",
       "│ 75%        ┆ 170.0      ┆ 52.0      ┆ null       ┆ null       ┆ 5.0      ┆ 1.0       ┆ 3.0       │\n",
       "│ max        ┆ 232.0      ┆ 99.0      ┆ ~~so very  ┆ You would  ┆ 5.0      ┆ 1.0       ┆ 99.0      │\n",
       "│            ┆            ┆           ┆ retailer~~ ┆ expect     ┆          ┆           ┆           │\n",
       "│            ┆            ┆           ┆            ┆ anything   ┆          ┆           ┆           │\n",
       "│            ┆            ┆           ┆            ┆ woolen to  ┆          ┆           ┆           │\n",
       "│            ┆            ┆           ┆            ┆ be         ┆          ┆           ┆           │\n",
       "│            ┆            ┆           ┆            ┆ slightly   ┆          ┆           ┆           │\n",
       "│            ┆            ┆           ┆            ┆ scratchy.  ┆          ┆           ┆           │\n",
       "│            ┆            ┆           ┆            ┆ this is    ┆          ┆           ┆           │\n",
       "│            ┆            ┆           ┆            ┆ incredibly ┆          ┆           ┆           │\n",
       "│            ┆            ┆           ┆            ┆ soft. i    ┆          ┆           ┆           │\n",
       "│            ┆            ┆           ┆            ┆ couldn't   ┆          ┆           ┆           │\n",
       "│            ┆            ┆           ┆            ┆ belive…    ┆          ┆           ┆           │\n",
       "└────────────┴────────────┴───────────┴────────────┴────────────┴──────────┴───────────┴───────────┘"
      ]
     },
     "metadata": {},
     "output_type": "display_data"
    },
    {
     "name": "stdout",
     "output_type": "stream",
     "text": [
      "[Int64, Int64, String, String, Int64, Int64, Int64]\n",
      "行数: 10000, 列数: 7\n",
      "\n",
      "■ test\n"
     ]
    },
    {
     "data": {
      "text/html": [
       "<div><style>\n",
       ".dataframe > thead > tr,\n",
       ".dataframe > tbody > tr {\n",
       "  text-align: right;\n",
       "  white-space: pre-wrap;\n",
       "}\n",
       "</style>\n",
       "<small>shape: (9, 6)</small><table border=\"1\" class=\"dataframe\"><thead><tr><th>statistic</th><th>Clothing ID</th><th>Age</th><th>Title</th><th>Review Text</th><th>Positive Feedback Count</th></tr><tr><td>str</td><td>f64</td><td>f64</td><td>str</td><td>str</td><td>f64</td></tr></thead><tbody><tr><td>&quot;count&quot;</td><td>11155.0</td><td>11155.0</td><td>&quot;9335&quot;</td><td>&quot;9749&quot;</td><td>11155.0</td></tr><tr><td>&quot;null_count&quot;</td><td>0.0</td><td>0.0</td><td>&quot;1820&quot;</td><td>&quot;1406&quot;</td><td>0.0</td></tr><tr><td>&quot;mean&quot;</td><td>123.940027</td><td>43.290184</td><td>null</td><td>null</td><td>2.592201</td></tr><tr><td>&quot;std&quot;</td><td>65.418225</td><td>12.222174</td><td>null</td><td>null</td><td>5.945481</td></tr><tr><td>&quot;min&quot;</td><td>0.0</td><td>18.0</td><td>&quot;&quot;beach business&quot;&quot;</td><td>&quot;&quot;does this sweater make my hips look big?&quot; my wife asked. this sweater was one of my christmas gifts…</td><td>0.0</td></tr><tr><td>&quot;25%&quot;</td><td>70.0</td><td>34.0</td><td>null</td><td>null</td><td>0.0</td></tr><tr><td>&quot;50%&quot;</td><td>129.0</td><td>41.0</td><td>null</td><td>null</td><td>1.0</td></tr><tr><td>&quot;75%&quot;</td><td>170.0</td><td>52.0</td><td>null</td><td>null</td><td>3.0</td></tr><tr><td>&quot;max&quot;</td><td>232.0</td><td>99.0</td><td>&quot;Zowie!&quot;</td><td>&quot;Yummy, soft material, but very faded looking. so much so that i am sending it back. if a faded look …</td><td>122.0</td></tr></tbody></table></div>"
      ],
      "text/plain": [
       "shape: (9, 6)\n",
       "┌────────────┬─────────────┬───────────┬──────────────────┬────────────────────┬───────────────────┐\n",
       "│ statistic  ┆ Clothing ID ┆ Age       ┆ Title            ┆ Review Text        ┆ Positive Feedback │\n",
       "│ ---        ┆ ---         ┆ ---       ┆ ---              ┆ ---                ┆ Count             │\n",
       "│ str        ┆ f64         ┆ f64       ┆ str              ┆ str                ┆ ---               │\n",
       "│            ┆             ┆           ┆                  ┆                    ┆ f64               │\n",
       "╞════════════╪═════════════╪═══════════╪══════════════════╪════════════════════╪═══════════════════╡\n",
       "│ count      ┆ 11155.0     ┆ 11155.0   ┆ 9335             ┆ 9749               ┆ 11155.0           │\n",
       "│ null_count ┆ 0.0         ┆ 0.0       ┆ 1820             ┆ 1406               ┆ 0.0               │\n",
       "│ mean       ┆ 123.940027  ┆ 43.290184 ┆ null             ┆ null               ┆ 2.592201          │\n",
       "│ std        ┆ 65.418225   ┆ 12.222174 ┆ null             ┆ null               ┆ 5.945481          │\n",
       "│ min        ┆ 0.0         ┆ 18.0      ┆ \"beach business\" ┆ \"does this sweater ┆ 0.0               │\n",
       "│            ┆             ┆           ┆                  ┆ make my hips look  ┆                   │\n",
       "│            ┆             ┆           ┆                  ┆ big?\" my wife      ┆                   │\n",
       "│            ┆             ┆           ┆                  ┆ asked. this        ┆                   │\n",
       "│            ┆             ┆           ┆                  ┆ sweater was one of ┆                   │\n",
       "│            ┆             ┆           ┆                  ┆ my christmas       ┆                   │\n",
       "│            ┆             ┆           ┆                  ┆ gifts…             ┆                   │\n",
       "│ 25%        ┆ 70.0        ┆ 34.0      ┆ null             ┆ null               ┆ 0.0               │\n",
       "│ 50%        ┆ 129.0       ┆ 41.0      ┆ null             ┆ null               ┆ 1.0               │\n",
       "│ 75%        ┆ 170.0       ┆ 52.0      ┆ null             ┆ null               ┆ 3.0               │\n",
       "│ max        ┆ 232.0       ┆ 99.0      ┆ Zowie!           ┆ Yummy, soft        ┆ 122.0             │\n",
       "│            ┆             ┆           ┆                  ┆ material, but very ┆                   │\n",
       "│            ┆             ┆           ┆                  ┆ faded looking. so  ┆                   │\n",
       "│            ┆             ┆           ┆                  ┆ much so that i am  ┆                   │\n",
       "│            ┆             ┆           ┆                  ┆ sending it back.   ┆                   │\n",
       "│            ┆             ┆           ┆                  ┆ if a faded look …  ┆                   │\n",
       "└────────────┴─────────────┴───────────┴──────────────────┴────────────────────┴───────────────────┘"
      ]
     },
     "metadata": {},
     "output_type": "display_data"
    },
    {
     "name": "stdout",
     "output_type": "stream",
     "text": [
      "[Int64, Int64, String, String, Int64]\n",
      "行数: 11155, 列数: 5\n",
      "\n",
      "■ cloth\n"
     ]
    },
    {
     "data": {
      "text/html": [
       "<div><style>\n",
       ".dataframe > thead > tr,\n",
       ".dataframe > tbody > tr {\n",
       "  text-align: right;\n",
       "  white-space: pre-wrap;\n",
       "}\n",
       "</style>\n",
       "<small>shape: (9, 5)</small><table border=\"1\" class=\"dataframe\"><thead><tr><th>statistic</th><th>Clothing ID</th><th>Division Name</th><th>Department Name</th><th>Class Name</th></tr><tr><td>str</td><td>f64</td><td>str</td><td>str</td><td>str</td></tr></thead><tbody><tr><td>&quot;count&quot;</td><td>233.0</td><td>&quot;233&quot;</td><td>&quot;233&quot;</td><td>&quot;233&quot;</td></tr><tr><td>&quot;null_count&quot;</td><td>0.0</td><td>&quot;0&quot;</td><td>&quot;0&quot;</td><td>&quot;0&quot;</td></tr><tr><td>&quot;mean&quot;</td><td>116.0</td><td>null</td><td>null</td><td>null</td></tr><tr><td>&quot;std&quot;</td><td>67.405489</td><td>null</td><td>null</td><td>null</td></tr><tr><td>&quot;min&quot;</td><td>0.0</td><td>&quot;General&quot;</td><td>&quot;Bottoms&quot;</td><td>&quot;Blouses&quot;</td></tr><tr><td>&quot;25%&quot;</td><td>58.0</td><td>null</td><td>null</td><td>null</td></tr><tr><td>&quot;50%&quot;</td><td>116.0</td><td>null</td><td>null</td><td>null</td></tr><tr><td>&quot;75%&quot;</td><td>174.0</td><td>null</td><td>null</td><td>null</td></tr><tr><td>&quot;max&quot;</td><td>232.0</td><td>&quot;Initmates&quot;</td><td>&quot;Trend&quot;</td><td>&quot;Trend&quot;</td></tr></tbody></table></div>"
      ],
      "text/plain": [
       "shape: (9, 5)\n",
       "┌────────────┬─────────────┬───────────────┬─────────────────┬────────────┐\n",
       "│ statistic  ┆ Clothing ID ┆ Division Name ┆ Department Name ┆ Class Name │\n",
       "│ ---        ┆ ---         ┆ ---           ┆ ---             ┆ ---        │\n",
       "│ str        ┆ f64         ┆ str           ┆ str             ┆ str        │\n",
       "╞════════════╪═════════════╪═══════════════╪═════════════════╪════════════╡\n",
       "│ count      ┆ 233.0       ┆ 233           ┆ 233             ┆ 233        │\n",
       "│ null_count ┆ 0.0         ┆ 0             ┆ 0               ┆ 0          │\n",
       "│ mean       ┆ 116.0       ┆ null          ┆ null            ┆ null       │\n",
       "│ std        ┆ 67.405489   ┆ null          ┆ null            ┆ null       │\n",
       "│ min        ┆ 0.0         ┆ General       ┆ Bottoms         ┆ Blouses    │\n",
       "│ 25%        ┆ 58.0        ┆ null          ┆ null            ┆ null       │\n",
       "│ 50%        ┆ 116.0       ┆ null          ┆ null            ┆ null       │\n",
       "│ 75%        ┆ 174.0       ┆ null          ┆ null            ┆ null       │\n",
       "│ max        ┆ 232.0       ┆ Initmates     ┆ Trend           ┆ Trend      │\n",
       "└────────────┴─────────────┴───────────────┴─────────────────┴────────────┘"
      ]
     },
     "metadata": {},
     "output_type": "display_data"
    },
    {
     "name": "stdout",
     "output_type": "stream",
     "text": [
      "[Int64, String, String, String]\n",
      "行数: 233, 列数: 4\n"
     ]
    }
   ],
   "source": [
    "print(\"■ train\")\n",
    "display(train_df.describe())\n",
    "print(train_df.dtypes)\n",
    "print(f\"行数: {train_df.shape[0]}, 列数: {train_df.shape[1]}\")\n",
    "\n",
    "print(\"\\n■ test\")\n",
    "display(test_df.describe())\n",
    "print(test_df.dtypes)\n",
    "print(f\"行数: {test_df.shape[0]}, 列数: {test_df.shape[1]}\")\n",
    "\n",
    "print(\"\\n■ cloth\")\n",
    "display(cloth_df.describe())\n",
    "print(cloth_df.dtypes)\n",
    "print(f\"行数: {cloth_df.shape[0]}, 列数: {cloth_df.shape[1]}\")\n"
   ]
  },
  {
   "cell_type": "markdown",
   "metadata": {},
   "source": [
    "### Train\n"
   ]
  },
  {
   "cell_type": "code",
   "execution_count": 29,
   "metadata": {},
   "outputs": [
    {
     "data": {
      "text/html": [
       "<div><style>\n",
       ".dataframe > thead > tr,\n",
       ".dataframe > tbody > tr {\n",
       "  text-align: right;\n",
       "  white-space: pre-wrap;\n",
       "}\n",
       "</style>\n",
       "<small>shape: (5, 7)</small><table border=\"1\" class=\"dataframe\"><thead><tr><th>Clothing ID</th><th>Age</th><th>Title</th><th>Review Text</th><th>Rating</th><th>Recommended IND</th><th>Positive Feedback Count</th></tr><tr><td>i64</td><td>i64</td><td>str</td><td>str</td><td>i64</td><td>i64</td><td>i64</td></tr></thead><tbody><tr><td>0</td><td>25</td><td>&quot;3-season skirt!&quot;</td><td>&quot;Adorable, well-made skirt! lined and very slimming. i had to size up b/c it runs a bit snug around t…</td><td>5</td><td>1</td><td>4</td></tr><tr><td>0</td><td>39</td><td>&quot;Very cute&quot;</td><td>&quot;Love the asymmetrical hem. waist fit snugly as in perfectly. it ties in two spots with a hidden zipp…</td><td>5</td><td>1</td><td>0</td></tr><tr><td>0</td><td>42</td><td>&quot;Beautiful! fruns small for typical retailer sizing&quot;</td><td>&quot;I love this skirt! i wasn&#x27;t sure about the mix of the back pattern with the front but it works! it i…</td><td>5</td><td>1</td><td>5</td></tr><tr><td>0</td><td>45</td><td>null</td><td>&quot;I was really pleased with this skirt. the lightness of the fabric is nice and the colors matched the…</td><td>5</td><td>1</td><td>9</td></tr><tr><td>0</td><td>57</td><td>&quot;Unique, pretty asymmetric skirt&quot;</td><td>&quot;I saw this skirt in retailer several months ago and while it caught my eye, it was pricey. so i wait…</td><td>5</td><td>1</td><td>1</td></tr></tbody></table></div>"
      ],
      "text/plain": [
       "shape: (5, 7)\n",
       "┌─────────────┬─────┬──────────────────┬──────────────────┬────────┬─────────────┬─────────────────┐\n",
       "│ Clothing ID ┆ Age ┆ Title            ┆ Review Text      ┆ Rating ┆ Recommended ┆ Positive        │\n",
       "│ ---         ┆ --- ┆ ---              ┆ ---              ┆ ---    ┆ IND         ┆ Feedback Count  │\n",
       "│ i64         ┆ i64 ┆ str              ┆ str              ┆ i64    ┆ ---         ┆ ---             │\n",
       "│             ┆     ┆                  ┆                  ┆        ┆ i64         ┆ i64             │\n",
       "╞═════════════╪═════╪══════════════════╪══════════════════╪════════╪═════════════╪═════════════════╡\n",
       "│ 0           ┆ 25  ┆ 3-season skirt!  ┆ Adorable,        ┆ 5      ┆ 1           ┆ 4               │\n",
       "│             ┆     ┆                  ┆ well-made skirt! ┆        ┆             ┆                 │\n",
       "│             ┆     ┆                  ┆ lined and very   ┆        ┆             ┆                 │\n",
       "│             ┆     ┆                  ┆ slimming. i had  ┆        ┆             ┆                 │\n",
       "│             ┆     ┆                  ┆ to size up b/c   ┆        ┆             ┆                 │\n",
       "│             ┆     ┆                  ┆ it runs a bit    ┆        ┆             ┆                 │\n",
       "│             ┆     ┆                  ┆ snug around t…   ┆        ┆             ┆                 │\n",
       "│ 0           ┆ 39  ┆ Very cute        ┆ Love the         ┆ 5      ┆ 1           ┆ 0               │\n",
       "│             ┆     ┆                  ┆ asymmetrical     ┆        ┆             ┆                 │\n",
       "│             ┆     ┆                  ┆ hem. waist fit   ┆        ┆             ┆                 │\n",
       "│             ┆     ┆                  ┆ snugly as in     ┆        ┆             ┆                 │\n",
       "│             ┆     ┆                  ┆ perfectly. it    ┆        ┆             ┆                 │\n",
       "│             ┆     ┆                  ┆ ties in two      ┆        ┆             ┆                 │\n",
       "│             ┆     ┆                  ┆ spots with a     ┆        ┆             ┆                 │\n",
       "│             ┆     ┆                  ┆ hidden zipp…     ┆        ┆             ┆                 │\n",
       "│ 0           ┆ 42  ┆ Beautiful! fruns ┆ I love this      ┆ 5      ┆ 1           ┆ 5               │\n",
       "│             ┆     ┆ small for        ┆ skirt! i wasn't  ┆        ┆             ┆                 │\n",
       "│             ┆     ┆ typical retailer ┆ sure about the   ┆        ┆             ┆                 │\n",
       "│             ┆     ┆ sizing           ┆ mix of the back  ┆        ┆             ┆                 │\n",
       "│             ┆     ┆                  ┆ pattern with the ┆        ┆             ┆                 │\n",
       "│             ┆     ┆                  ┆ front but it     ┆        ┆             ┆                 │\n",
       "│             ┆     ┆                  ┆ works! it i…     ┆        ┆             ┆                 │\n",
       "│ 0           ┆ 45  ┆ null             ┆ I was really     ┆ 5      ┆ 1           ┆ 9               │\n",
       "│             ┆     ┆                  ┆ pleased with     ┆        ┆             ┆                 │\n",
       "│             ┆     ┆                  ┆ this skirt. the  ┆        ┆             ┆                 │\n",
       "│             ┆     ┆                  ┆ lightness of the ┆        ┆             ┆                 │\n",
       "│             ┆     ┆                  ┆ fabric is nice   ┆        ┆             ┆                 │\n",
       "│             ┆     ┆                  ┆ and the colors   ┆        ┆             ┆                 │\n",
       "│             ┆     ┆                  ┆ matched the…     ┆        ┆             ┆                 │\n",
       "│ 0           ┆ 57  ┆ Unique, pretty   ┆ I saw this skirt ┆ 5      ┆ 1           ┆ 1               │\n",
       "│             ┆     ┆ asymmetric skirt ┆ in retailer      ┆        ┆             ┆                 │\n",
       "│             ┆     ┆                  ┆ several months   ┆        ┆             ┆                 │\n",
       "│             ┆     ┆                  ┆ ago and while it ┆        ┆             ┆                 │\n",
       "│             ┆     ┆                  ┆ caught my eye,   ┆        ┆             ┆                 │\n",
       "│             ┆     ┆                  ┆ it was pricey.   ┆        ┆             ┆                 │\n",
       "│             ┆     ┆                  ┆ so i wait…       ┆        ┆             ┆                 │\n",
       "└─────────────┴─────┴──────────────────┴──────────────────┴────────┴─────────────┴─────────────────┘"
      ]
     },
     "execution_count": 29,
     "metadata": {},
     "output_type": "execute_result"
    }
   ],
   "source": [
    "train_df.head()\n"
   ]
  },
  {
   "cell_type": "code",
   "execution_count": 30,
   "metadata": {},
   "outputs": [
    {
     "data": {
      "text/plain": [
       "(10000, 7)"
      ]
     },
     "execution_count": 30,
     "metadata": {},
     "output_type": "execute_result"
    }
   ],
   "source": [
    "train_df.shape\n"
   ]
  },
  {
   "cell_type": "code",
   "execution_count": 31,
   "metadata": {},
   "outputs": [
    {
     "data": {
      "text/html": [
       "<div><style>\n",
       ".dataframe > thead > tr,\n",
       ".dataframe > tbody > tr {\n",
       "  text-align: right;\n",
       "  white-space: pre-wrap;\n",
       "}\n",
       "</style>\n",
       "<small>shape: (1, 7)</small><table border=\"1\" class=\"dataframe\"><thead><tr><th>Clothing ID</th><th>Age</th><th>Title</th><th>Review Text</th><th>Rating</th><th>Recommended IND</th><th>Positive Feedback Count</th></tr><tr><td>u32</td><td>u32</td><td>u32</td><td>u32</td><td>u32</td><td>u32</td><td>u32</td></tr></thead><tbody><tr><td>0</td><td>0</td><td>1575</td><td>1280</td><td>0</td><td>0</td><td>0</td></tr></tbody></table></div>"
      ],
      "text/plain": [
       "shape: (1, 7)\n",
       "┌─────────────┬─────┬───────┬─────────────┬────────┬─────────────────┬─────────────────────────┐\n",
       "│ Clothing ID ┆ Age ┆ Title ┆ Review Text ┆ Rating ┆ Recommended IND ┆ Positive Feedback Count │\n",
       "│ ---         ┆ --- ┆ ---   ┆ ---         ┆ ---    ┆ ---             ┆ ---                     │\n",
       "│ u32         ┆ u32 ┆ u32   ┆ u32         ┆ u32    ┆ u32             ┆ u32                     │\n",
       "╞═════════════╪═════╪═══════╪═════════════╪════════╪═════════════════╪═════════════════════════╡\n",
       "│ 0           ┆ 0   ┆ 1575  ┆ 1280        ┆ 0      ┆ 0               ┆ 0                       │\n",
       "└─────────────┴─────┴───────┴─────────────┴────────┴─────────────────┴─────────────────────────┘"
      ]
     },
     "execution_count": 31,
     "metadata": {},
     "output_type": "execute_result"
    }
   ],
   "source": [
    "# title, review textに欠損あり\n",
    "train_df.null_count()\n"
   ]
  },
  {
   "cell_type": "code",
   "execution_count": 32,
   "metadata": {},
   "outputs": [
    {
     "name": "stdout",
     "output_type": "stream",
     "text": [
      "各列のユニーク数:\n"
     ]
    },
    {
     "data": {
      "text/html": [
       "<div><style>\n",
       ".dataframe > thead > tr,\n",
       ".dataframe > tbody > tr {\n",
       "  text-align: right;\n",
       "  white-space: pre-wrap;\n",
       "}\n",
       "</style>\n",
       "<small>shape: (1, 7)</small><table border=\"1\" class=\"dataframe\"><thead><tr><th>Clothing ID</th><th>Age</th><th>Title</th><th>Review Text</th><th>Rating</th><th>Recommended IND</th><th>Positive Feedback Count</th></tr><tr><td>u32</td><td>u32</td><td>u32</td><td>u32</td><td>u32</td><td>u32</td><td>u32</td></tr></thead><tbody><tr><td>233</td><td>73</td><td>6422</td><td>8721</td><td>5</td><td>2</td><td>65</td></tr></tbody></table></div>"
      ],
      "text/plain": [
       "shape: (1, 7)\n",
       "┌─────────────┬─────┬───────┬─────────────┬────────┬─────────────────┬─────────────────────────┐\n",
       "│ Clothing ID ┆ Age ┆ Title ┆ Review Text ┆ Rating ┆ Recommended IND ┆ Positive Feedback Count │\n",
       "│ ---         ┆ --- ┆ ---   ┆ ---         ┆ ---    ┆ ---             ┆ ---                     │\n",
       "│ u32         ┆ u32 ┆ u32   ┆ u32         ┆ u32    ┆ u32             ┆ u32                     │\n",
       "╞═════════════╪═════╪═══════╪═════════════╪════════╪═════════════════╪═════════════════════════╡\n",
       "│ 233         ┆ 73  ┆ 6422  ┆ 8721        ┆ 5      ┆ 2               ┆ 65                      │\n",
       "└─────────────┴─────┴───────┴─────────────┴────────┴─────────────────┴─────────────────────────┘"
      ]
     },
     "metadata": {},
     "output_type": "display_data"
    }
   ],
   "source": [
    "# 各列のユニーク数\n",
    "print(\"各列のユニーク数:\")\n",
    "display(train_df.select(pl.all().n_unique()))\n",
    "\n",
    "# Review Textは一意\n",
    "# Titleは一意ではない？\n"
   ]
  },
  {
   "cell_type": "code",
   "execution_count": 39,
   "metadata": {},
   "outputs": [
    {
     "data": {
      "text/html": [
       "<div><style>\n",
       ".dataframe > thead > tr,\n",
       ".dataframe > tbody > tr {\n",
       "  text-align: right;\n",
       "  white-space: pre-wrap;\n",
       "}\n",
       "</style>\n",
       "<small>shape: (5, 5)</small><table border=\"1\" class=\"dataframe\"><thead><tr><th>Clothing ID</th><th>Age</th><th>Rating</th><th>Recommended IND</th><th>Positive Feedback Count</th></tr><tr><td>f64</td><td>f64</td><td>f64</td><td>f64</td><td>f64</td></tr></thead><tbody><tr><td>1.0</td><td>-0.022604</td><td>0.013598</td><td>0.004254</td><td>-0.006449</td></tr><tr><td>-0.022604</td><td>1.0</td><td>0.021359</td><td>0.023563</td><td>0.035068</td></tr><tr><td>0.013598</td><td>0.021359</td><td>1.0</td><td>0.791016</td><td>-0.057499</td></tr><tr><td>0.004254</td><td>0.023563</td><td>0.791016</td><td>1.0</td><td>-0.075364</td></tr><tr><td>-0.006449</td><td>0.035068</td><td>-0.057499</td><td>-0.075364</td><td>1.0</td></tr></tbody></table></div>"
      ],
      "text/plain": [
       "shape: (5, 5)\n",
       "┌─────────────┬───────────┬───────────┬─────────────────┬─────────────────────────┐\n",
       "│ Clothing ID ┆ Age       ┆ Rating    ┆ Recommended IND ┆ Positive Feedback Count │\n",
       "│ ---         ┆ ---       ┆ ---       ┆ ---             ┆ ---                     │\n",
       "│ f64         ┆ f64       ┆ f64       ┆ f64             ┆ f64                     │\n",
       "╞═════════════╪═══════════╪═══════════╪═════════════════╪═════════════════════════╡\n",
       "│ 1.0         ┆ -0.022604 ┆ 0.013598  ┆ 0.004254        ┆ -0.006449               │\n",
       "│ -0.022604   ┆ 1.0       ┆ 0.021359  ┆ 0.023563        ┆ 0.035068                │\n",
       "│ 0.013598    ┆ 0.021359  ┆ 1.0       ┆ 0.791016        ┆ -0.057499               │\n",
       "│ 0.004254    ┆ 0.023563  ┆ 0.791016  ┆ 1.0             ┆ -0.075364               │\n",
       "│ -0.006449   ┆ 0.035068  ┆ -0.057499 ┆ -0.075364       ┆ 1.0                     │\n",
       "└─────────────┴───────────┴───────────┴─────────────────┴─────────────────────────┘"
      ]
     },
     "metadata": {},
     "output_type": "display_data"
    },
    {
     "data": {
      "image/png": "[encoded data removed]",
      "text/plain": [
       "<Figure size 1000x800 with 2 Axes>"
      ]
     },
     "metadata": {},
     "output_type": "display_data"
    }
   ],
   "source": [
    "# train_dfの相関係数\n",
    "train_corr = train_df.select([\"Clothing ID\", \"Age\",\"Rating\", \"Recommended IND\", \"Positive Feedback Count\"]).corr()\n",
    "\n",
    "display(train_corr)\n",
    "\n",
    "# ヒートマップの描画\n",
    "plt.figure(figsize=(10, 8))\n",
    "sns.heatmap(train_corr, annot=True, cmap=\"coolwarm\", vmin=-1, vmax=1, center=0)\n",
    "plt.title(\"train_df correlation\")\n",
    "plt.show()\n"
   ]
  },
  {
   "cell_type": "code",
   "execution_count": 36,
   "metadata": {},
   "outputs": [
    {
     "data": {
      "text/html": [
       "<div><style>\n",
       ".dataframe > thead > tr,\n",
       ".dataframe > tbody > tr {\n",
       "  text-align: right;\n",
       "  white-space: pre-wrap;\n",
       "}\n",
       "</style>\n",
       "<small>shape: (5, 5)</small><table border=\"1\" class=\"dataframe\"><thead><tr><th>Clothing ID</th><th>Age</th><th>Rating</th><th>Recommended IND</th><th>Positive Feedback Count</th></tr><tr><td>f64</td><td>f64</td><td>f64</td><td>f64</td><td>f64</td></tr></thead><tbody><tr><td>1.0</td><td>-0.022604</td><td>0.013598</td><td>0.004254</td><td>-0.006449</td></tr><tr><td>-0.022604</td><td>1.0</td><td>0.021359</td><td>0.023563</td><td>0.035068</td></tr><tr><td>0.013598</td><td>0.021359</td><td>1.0</td><td>0.791016</td><td>-0.057499</td></tr><tr><td>0.004254</td><td>0.023563</td><td>0.791016</td><td>1.0</td><td>-0.075364</td></tr><tr><td>-0.006449</td><td>0.035068</td><td>-0.057499</td><td>-0.075364</td><td>1.0</td></tr></tbody></table></div>"
      ],
      "text/plain": [
       "shape: (5, 5)\n",
       "┌─────────────┬───────────┬───────────┬─────────────────┬─────────────────────────┐\n",
       "│ Clothing ID ┆ Age       ┆ Rating    ┆ Recommended IND ┆ Positive Feedback Count │\n",
       "│ ---         ┆ ---       ┆ ---       ┆ ---             ┆ ---                     │\n",
       "│ f64         ┆ f64       ┆ f64       ┆ f64             ┆ f64                     │\n",
       "╞═════════════╪═══════════╪═══════════╪═════════════════╪═════════════════════════╡\n",
       "│ 1.0         ┆ -0.022604 ┆ 0.013598  ┆ 0.004254        ┆ -0.006449               │\n",
       "│ -0.022604   ┆ 1.0       ┆ 0.021359  ┆ 0.023563        ┆ 0.035068                │\n",
       "│ 0.013598    ┆ 0.021359  ┆ 1.0       ┆ 0.791016        ┆ -0.057499               │\n",
       "│ 0.004254    ┆ 0.023563  ┆ 0.791016  ┆ 1.0             ┆ -0.075364               │\n",
       "│ -0.006449   ┆ 0.035068  ┆ -0.057499 ┆ -0.075364       ┆ 1.0                     │\n",
       "└─────────────┴───────────┴───────────┴─────────────────┴─────────────────────────┘"
      ]
     },
     "execution_count": 36,
     "metadata": {},
     "output_type": "execute_result"
    }
   ],
   "source": [
    "train_corr\n"
   ]
  },
  {
   "cell_type": "markdown",
   "metadata": {},
   "source": [
    "### Clothes"
   ]
  },
  {
   "cell_type": "code",
   "execution_count": 19,
   "metadata": {},
   "outputs": [
    {
     "data": {
      "text/plain": [
       "(233, 4)"
      ]
     },
     "execution_count": 19,
     "metadata": {},
     "output_type": "execute_result"
    }
   ],
   "source": [
    "cloth_df.shape\n"
   ]
  },
  {
   "cell_type": "code",
   "execution_count": 11,
   "metadata": {},
   "outputs": [
    {
     "data": {
      "text/html": [
       "<div><style>\n",
       ".dataframe > thead > tr,\n",
       ".dataframe > tbody > tr {\n",
       "  text-align: right;\n",
       "  white-space: pre-wrap;\n",
       "}\n",
       "</style>\n",
       "<small>shape: (5, 4)</small><table border=\"1\" class=\"dataframe\"><thead><tr><th>Clothing ID</th><th>Division Name</th><th>Department Name</th><th>Class Name</th></tr><tr><td>i64</td><td>str</td><td>str</td><td>str</td></tr></thead><tbody><tr><td>0</td><td>&quot;General&quot;</td><td>&quot;Bottoms&quot;</td><td>&quot;Skirts&quot;</td></tr><tr><td>1</td><td>&quot;General&quot;</td><td>&quot;Bottoms&quot;</td><td>&quot;Pants&quot;</td></tr><tr><td>2</td><td>&quot;General&quot;</td><td>&quot;Tops&quot;</td><td>&quot;Sweaters&quot;</td></tr><tr><td>3</td><td>&quot;General&quot;</td><td>&quot;Dresses&quot;</td><td>&quot;Dresses&quot;</td></tr><tr><td>4</td><td>&quot;General&quot;</td><td>&quot;Dresses&quot;</td><td>&quot;Dresses&quot;</td></tr></tbody></table></div>"
      ],
      "text/plain": [
       "shape: (5, 4)\n",
       "┌─────────────┬───────────────┬─────────────────┬────────────┐\n",
       "│ Clothing ID ┆ Division Name ┆ Department Name ┆ Class Name │\n",
       "│ ---         ┆ ---           ┆ ---             ┆ ---        │\n",
       "│ i64         ┆ str           ┆ str             ┆ str        │\n",
       "╞═════════════╪═══════════════╪═════════════════╪════════════╡\n",
       "│ 0           ┆ General       ┆ Bottoms         ┆ Skirts     │\n",
       "│ 1           ┆ General       ┆ Bottoms         ┆ Pants      │\n",
       "│ 2           ┆ General       ┆ Tops            ┆ Sweaters   │\n",
       "│ 3           ┆ General       ┆ Dresses         ┆ Dresses    │\n",
       "│ 4           ┆ General       ┆ Dresses         ┆ Dresses    │\n",
       "└─────────────┴───────────────┴─────────────────┴────────────┘"
      ]
     },
     "execution_count": 11,
     "metadata": {},
     "output_type": "execute_result"
    }
   ],
   "source": [
    "cloth_df.head()\n"
   ]
  },
  {
   "cell_type": "code",
   "execution_count": 13,
   "metadata": {},
   "outputs": [
    {
     "data": {
      "text/html": [
       "<div><style>\n",
       ".dataframe > thead > tr,\n",
       ".dataframe > tbody > tr {\n",
       "  text-align: right;\n",
       "  white-space: pre-wrap;\n",
       "}\n",
       "</style>\n",
       "<small>shape: (1, 4)</small><table border=\"1\" class=\"dataframe\"><thead><tr><th>Clothing ID</th><th>Division Name</th><th>Department Name</th><th>Class Name</th></tr><tr><td>u32</td><td>u32</td><td>u32</td><td>u32</td></tr></thead><tbody><tr><td>0</td><td>0</td><td>0</td><td>0</td></tr></tbody></table></div>"
      ],
      "text/plain": [
       "shape: (1, 4)\n",
       "┌─────────────┬───────────────┬─────────────────┬────────────┐\n",
       "│ Clothing ID ┆ Division Name ┆ Department Name ┆ Class Name │\n",
       "│ ---         ┆ ---           ┆ ---             ┆ ---        │\n",
       "│ u32         ┆ u32           ┆ u32             ┆ u32        │\n",
       "╞═════════════╪═══════════════╪═════════════════╪════════════╡\n",
       "│ 0           ┆ 0             ┆ 0               ┆ 0          │\n",
       "└─────────────┴───────────────┴─────────────────┴────────────┘"
      ]
     },
     "execution_count": 13,
     "metadata": {},
     "output_type": "execute_result"
    }
   ],
   "source": [
    "# 欠損値はなし\n",
    "cloth_df.null_count()\n"
   ]
  },
  {
   "cell_type": "code",
   "execution_count": 18,
   "metadata": {},
   "outputs": [
    {
     "name": "stdout",
     "output_type": "stream",
     "text": [
      "各列のユニーク数:\n"
     ]
    },
    {
     "data": {
      "text/html": [
       "<div><style>\n",
       ".dataframe > thead > tr,\n",
       ".dataframe > tbody > tr {\n",
       "  text-align: right;\n",
       "  white-space: pre-wrap;\n",
       "}\n",
       "</style>\n",
       "<small>shape: (1, 4)</small><table border=\"1\" class=\"dataframe\"><thead><tr><th>Clothing ID</th><th>Division Name</th><th>Department Name</th><th>Class Name</th></tr><tr><td>u32</td><td>u32</td><td>u32</td><td>u32</td></tr></thead><tbody><tr><td>233</td><td>3</td><td>6</td><td>16</td></tr></tbody></table></div>"
      ],
      "text/plain": [
       "shape: (1, 4)\n",
       "┌─────────────┬───────────────┬─────────────────┬────────────┐\n",
       "│ Clothing ID ┆ Division Name ┆ Department Name ┆ Class Name │\n",
       "│ ---         ┆ ---           ┆ ---             ┆ ---        │\n",
       "│ u32         ┆ u32           ┆ u32             ┆ u32        │\n",
       "╞═════════════╪═══════════════╪═════════════════╪════════════╡\n",
       "│ 233         ┆ 3             ┆ 6               ┆ 16         │\n",
       "└─────────────┴───────────────┴─────────────────┴────────────┘"
      ]
     },
     "metadata": {},
     "output_type": "display_data"
    }
   ],
   "source": [
    "# 各列のユニーク数\n",
    "print(\"各列のユニーク数:\")\n",
    "display(cloth_df.select(pl.all().n_unique()))\n"
   ]
  },
  {
   "cell_type": "code",
   "execution_count": null,
   "metadata": {},
   "outputs": [],
   "source": []
  },
  {
   "cell_type": "markdown",
   "metadata": {},
   "source": [
    "### target"
   ]
  },
  {
   "cell_type": "code",
   "execution_count": 6,
   "metadata": {},
   "outputs": [
    {
     "data": {
      "text/plain": [
       "<Axes: >"
      ]
     },
     "execution_count": 6,
     "metadata": {},
     "output_type": "execute_result"
    },
    {
     "data": {
      "image/png": "[encoded data removed]",
      "text/plain": [
       "<Figure size 600x300 with 1 Axes>"
      ]
     },
     "metadata": {},
     "output_type": "display_data"
    }
   ],
   "source": [
    "train_df[cfg.target].hist(bins=10, figsize=(6, 3))\n"
   ]
  },
  {
   "cell_type": "code",
   "execution_count": 7,
   "metadata": {},
   "outputs": [
    {
     "data": {
      "text/plain": [
       "user_id\n",
       "61c04a903417d6ed0500    326\n",
       "87e8bf4369b122472f54    320\n",
       "66e8ad1b15e37ffe34d8    310\n",
       "445bd5c54308fc81763d    297\n",
       "201b3dde31e826ba2030    296\n",
       "                       ... \n",
       "f0cf163dc9f6df380958      1\n",
       "d7b6bf8a99fdd3889579      1\n",
       "d747358f72dd5774d845      1\n",
       "a0ea782492772a5e05f7      1\n",
       "bf3cbfa1d3b161eaf3e8      1\n",
       "Name: count, Length: 1794, dtype: int64"
      ]
     },
     "metadata": {},
     "output_type": "display_data"
    },
    {
     "data": {
      "text/plain": [
       "anime_id\n",
       "a5ccc0a38f18f309d4f3    641\n",
       "35d87d3bdeed620ef335    604\n",
       "e97089fa8701bdc3bd6b    563\n",
       "a707c12cacdeb5c5ccec    504\n",
       "4819655fa52cbafe9c8b    476\n",
       "                       ... \n",
       "56ac71e01ef6a09ca869      3\n",
       "7937a8344408e7f5f783      3\n",
       "71ce770d58dc410571f8      1\n",
       "867934bc2a611a8423da      1\n",
       "1e9b3a43745594039e42      1\n",
       "Name: count, Length: 1954, dtype: int64"
      ]
     },
     "metadata": {},
     "output_type": "display_data"
    },
    {
     "data": {
      "text/plain": [
       "score\n",
       "8     38214\n",
       "7     29670\n",
       "9     27061\n",
       "10    18037\n",
       "6     13211\n",
       "5      5761\n",
       "4      2425\n",
       "3      1017\n",
       "2       520\n",
       "1       485\n",
       "Name: count, dtype: int64"
      ]
     },
     "metadata": {},
     "output_type": "display_data"
    },
    {
     "data": {
      "text/plain": [
       "genres\n",
       "Action, Game, Adventure, Romance, Fantasy                          1310\n",
       "Action, Military, Mystery, Super Power, Drama, Fantasy, Shounen    1220\n",
       "Slice of Life, Comedy, Drama, Romance, School                      1163\n",
       "Ecchi, School, Shounen                                             1024\n",
       "Slice of Life, Comedy                                               906\n",
       "                                                                   ... \n",
       "Action, Drama, Romance, Sci-Fi                                        5\n",
       "Demons, Fantasy, Magic, Supernatural                                  4\n",
       "Harem, Comedy, Supernatural, Romance, Ecchi, School, Shounen          3\n",
       "Mystery, Drama                                                        3\n",
       "Sci-Fi, Mystery, Psychological, Thriller, Shounen                     1\n",
       "Name: count, Length: 1316, dtype: int64"
      ]
     },
     "metadata": {},
     "output_type": "display_data"
    },
    {
     "data": {
      "text/plain": [
       "japanese_name\n",
       "僕のヒーローアカデミア      1107\n",
       "ワンパンマン            754\n",
       "デスノート             641\n",
       "進撃の巨人             604\n",
       "ソードアート・オンライン      563\n",
       "                 ... \n",
       "戦×恋（ヴァルラヴ）          3\n",
       "エンドライド              3\n",
       "池袋ウエストゲートパーク        3\n",
       "生徒会役員共＊ OAD         1\n",
       "ヲタクに恋は難しい OAD       1\n",
       "Name: count, Length: 1892, dtype: int64"
      ]
     },
     "metadata": {},
     "output_type": "display_data"
    },
    {
     "data": {
      "text/plain": [
       "type\n",
       "TV         106114\n",
       "Movie       17670\n",
       "OVA          6219\n",
       "Special      4484\n",
       "ONA          1792\n",
       "Music         122\n",
       "Name: count, dtype: int64"
      ]
     },
     "metadata": {},
     "output_type": "display_data"
    },
    {
     "data": {
      "text/plain": [
       "episodes\n",
       "12     40998\n",
       "1      23504\n",
       "13     18292\n",
       "24     10641\n",
       "25      9166\n",
       "       ...  \n",
       "100       14\n",
       "109       11\n",
       "147       11\n",
       "76         7\n",
       "146        5\n",
       "Name: count, Length: 93, dtype: int64"
      ]
     },
     "metadata": {},
     "output_type": "display_data"
    },
    {
     "data": {
      "text/plain": [
       "aired\n",
       "Jan 10, 2012 to Mar 27, 2012    644\n",
       "Oct 4, 2006 to Jun 27, 2007     641\n",
       "Oct 4, 2013 to Mar 28, 2014     608\n",
       "Apr 7, 2013 to Sep 29, 2013     604\n",
       "Apr 5, 2006 to Sep 27, 2006     596\n",
       "                               ... \n",
       "Sep 18, 2020                      4\n",
       "Oct 5, 2019 to Dec 21, 2019       3\n",
       "May 16, 2014 to Sep 17, 2020      1\n",
       "Jan 8, 2021 to ?                  1\n",
       "Mar 29, 2019 to Feb 26, 2021      1\n",
       "Name: count, Length: 1626, dtype: int64"
      ]
     },
     "metadata": {},
     "output_type": "display_data"
    },
    {
     "data": {
      "text/plain": [
       "producers\n",
       "Unknown                                                                                                              8521\n",
       "Aniplex                                                                                                              2040\n",
       "Aniplex, Kodansha                                                                                                    1074\n",
       "Fuji TV                                                                                                               984\n",
       "Production I.G, Dentsu, Mainichi Broadcasting System, Pony Canyon, Kodansha, Techno Sound, Pony Canyon Enterprise     841\n",
       "                                                                                                                     ... \n",
       "Aniplex, Houbunsha, Kansai Telecasting, Lawson, Kinoshita Group Holdings, Drecom                                        5\n",
       "Asmik Ace, Cygames, Happinet                                                                                            4\n",
       "VAP, Nippon Television Network, Nippon Television Music, Takara Tomy A.R.T.S, CyberAgent, Forecast Communications       3\n",
       "Square Enix, Sotsu, AT-X, Tokyo MX, Avex Pictures, Docomo Anime Store, BS11, GYAO!, A-Sketch, MAGNET, entama            3\n",
       "Aniplex, Half H.P Studio, Fujipacific Music                                                                             1\n",
       "Name: count, Length: 1380, dtype: int64"
      ]
     },
     "metadata": {},
     "output_type": "display_data"
    },
    {
     "data": {
      "text/plain": [
       "licensors\n",
       "Funimation                                               36510\n",
       "Sentai Filmworks                                         25221\n",
       "Unknown                                                  15685\n",
       "Aniplex of America                                       14294\n",
       "VIZ Media                                                 7177\n",
       "                                                         ...  \n",
       "Bandai, Sentai Filmworks                                    15\n",
       "Nozomi Entertainment, Bandai Entertainment, NYAV Post       14\n",
       "Super Techno Arts                                           13\n",
       "Funimation, NBCUniversal Entertainment Japan                10\n",
       "Discotek Media, Ponycan USA                                  9\n",
       "Name: count, Length: 133, dtype: int64"
      ]
     },
     "metadata": {},
     "output_type": "display_data"
    },
    {
     "data": {
      "text/plain": [
       "studios\n",
       "Madhouse                                            9067\n",
       "A-1 Pictures                                        8447\n",
       "J.C.Staff                                           8150\n",
       "Bones                                               6748\n",
       "Kyoto Animation                                     6043\n",
       "                                                    ... \n",
       "TMS Entertainment, Shin-Ei Animation                   8\n",
       "B.CMAY PICTURES, Colored-Pencil Animation Design       8\n",
       "Production I.G, Trans Arts                             8\n",
       "Production I.G, Nut, Revoroot                          6\n",
       "A-1 Pictures, Lapin Track                              1\n",
       "Name: count, Length: 265, dtype: int64"
      ]
     },
     "metadata": {},
     "output_type": "display_data"
    },
    {
     "data": {
      "text/plain": [
       "source\n",
       "Manga            60830\n",
       "Light novel      31278\n",
       "Original         21516\n",
       "Visual novel      7122\n",
       "Web manga         3779\n",
       "4-koma manga      3652\n",
       "Novel             3522\n",
       "Game              2964\n",
       "Other             1184\n",
       "Music              294\n",
       "Card game          162\n",
       "Book                61\n",
       "Digital manga       37\n",
       "Name: count, dtype: int64"
      ]
     },
     "metadata": {},
     "output_type": "display_data"
    },
    {
     "data": {
      "text/plain": [
       "duration\n",
       "24 min. per ep.         60941\n",
       "23 min. per ep.         32468\n",
       "25 min. per ep.          7569\n",
       "22 min. per ep.          4716\n",
       "24 min.                  1382\n",
       "                        ...  \n",
       "1 hr. 2 min. per ep.       14\n",
       "35 min. per ep.            13\n",
       "2 hr. 16 min.              12\n",
       "2 hr. 20 min.              10\n",
       "2 hr. 2 min.                9\n",
       "Name: count, Length: 150, dtype: int64"
      ]
     },
     "metadata": {},
     "output_type": "display_data"
    },
    {
     "data": {
      "text/plain": [
       "rating\n",
       "PG-13 - Teens 13 or older         81769\n",
       "R - 17+ (violence & profanity)    35779\n",
       "R+ - Mild Nudity                  13454\n",
       "PG - Children                      2768\n",
       "G - All Ages                       2564\n",
       "Rx - Hentai                          53\n",
       "Unknown                              14\n",
       "Name: count, dtype: int64"
      ]
     },
     "metadata": {},
     "output_type": "display_data"
    },
    {
     "data": {
      "text/plain": [
       "members\n",
       "2589552    641\n",
       "2531397    604\n",
       "2214395    563\n",
       "2123866    504\n",
       "1591773    476\n",
       "          ... \n",
       "61776        3\n",
       "66395        3\n",
       "62844        1\n",
       "482725       1\n",
       "90626        1\n",
       "Name: count, Length: 1949, dtype: int64"
      ]
     },
     "metadata": {},
     "output_type": "display_data"
    },
    {
     "data": {
      "text/plain": [
       "watching\n",
       "122401    641\n",
       "140753    604\n",
       "80304     563\n",
       "41249     518\n",
       "96568     504\n",
       "         ... \n",
       "7547        3\n",
       "11081       3\n",
       "24871       1\n",
       "260775      1\n",
       "46279       1\n",
       "Name: count, Length: 1858, dtype: int64"
      ]
     },
     "metadata": {},
     "output_type": "display_data"
    },
    {
     "data": {
      "text/plain": [
       "completed\n",
       "2146116    641\n",
       "2182587    604\n",
       "1907261    563\n",
       "1841220    504\n",
       "1229098    476\n",
       "          ... \n",
       "24662        3\n",
       "18894        3\n",
       "7413         1\n",
       "60           1\n",
       "327          1\n",
       "Name: count, Length: 1949, dtype: int64"
      ]
     },
     "metadata": {},
     "output_type": "display_data"
    },
    {
     "data": {
      "text/plain": [
       "on_hold\n",
       "75054    641\n",
       "37345    604\n",
       "25632    563\n",
       "3124     531\n",
       "30271    504\n",
       "        ... \n",
       "2038       3\n",
       "2108       3\n",
       "8019       1\n",
       "6458       1\n",
       "10053      1\n",
       "Name: count, Length: 1782, dtype: int64"
      ]
     },
     "metadata": {},
     "output_type": "display_data"
    },
    {
     "data": {
      "text/plain": [
       "dropped\n",
       "80834    641\n",
       "44635    604\n",
       "90661    563\n",
       "26755    504\n",
       "38209    476\n",
       "        ... \n",
       "8442       3\n",
       "16759      3\n",
       "6603       3\n",
       "6966       1\n",
       "857        1\n",
       "Name: count, Length: 1782, dtype: int64"
      ]
     },
     "metadata": {},
     "output_type": "display_data"
    },
    {
     "data": {
      "text/plain": [
       "plan_to_watch\n",
       "165147    641\n",
       "126077    604\n",
       "110537    563\n",
       "129052    504\n",
       "234430    476\n",
       "         ... \n",
       "18647       3\n",
       "27709       3\n",
       "21037       1\n",
       "208466      1\n",
       "33110       1\n",
       "Name: count, Length: 1932, dtype: int64"
      ]
     },
     "metadata": {},
     "output_type": "display_data"
    }
   ],
   "source": [
    "for c in train_df.columns:\n",
    "    display(train_df[c].value_counts(dropna=False))\n"
   ]
  },
  {
   "cell_type": "code",
   "execution_count": null,
   "metadata": {},
   "outputs": [],
   "source": []
  }
 ],
 "metadata": {
  "kernelspec": {
   "display_name": ".venv",
   "language": "python",
   "name": "python3"
  },
  "language_info": {
   "codemirror_mode": {
    "name": "ipython",
    "version": 3
   },
   "file_extension": ".py",
   "mimetype": "text/x-python",
   "name": "python",
   "nbconvert_exporter": "python",
   "pygments_lexer": "ipython3",
   "version": "3.12.3"
  }
 },
 "nbformat": 4,
 "nbformat_minor": 2
}
