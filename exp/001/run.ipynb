{
 "cells": [
  {
   "cell_type": "code",
   "execution_count": 1,
   "metadata": {},
   "outputs": [
    {
     "name": "stdout",
     "output_type": "stream",
     "text": [
      "lgb:\n",
      "  params:\n",
      "    objective: binary\n",
      "    metric: auc\n",
      "    verbose: -1\n",
      "    boosting_type: gbdt\n",
      "    learning_rate: 0.01\n",
      "    max_depth: 5\n",
      "    num_leaves: 31\n",
      "    min_data_in_leaf: 20\n",
      "    bagging_fraction: 0.8\n",
      "    bagging_freq: 1\n",
      "    feature_fraction: 0.8\n",
      "    lambda_l1: 0\n",
      "    lambda_l2: 1\n",
      "    seed: 42\n",
      "  early_stopping_rounds: 100\n",
      "  log_evaluation: 100\n",
      "  num_boost_round: 10000000\n",
      "cb:\n",
      "  params:\n",
      "    loss_function: Logloss\n",
      "    eval_metric: Logloss\n",
      "    learning_rate: 0.05\n",
      "    depth: 5\n",
      "    max_leaves: 31\n",
      "    min_data_in_leaf: 20\n",
      "    subsample: 0.8\n",
      "    rsm: 0.8\n",
      "    l2_leaf_reg: 1\n",
      "    random_seed: 42\n",
      "    allow_writing_files: false\n",
      "  early_stopping_rounds: 100\n",
      "  log_evaluation: 100\n",
      "  num_boost_round: 10000000\n",
      "exp_number: '001'\n",
      "run_name: base\n",
      "data:\n",
      "  data_root: ../../data\n",
      "  results_root: ../../results\n",
      "  train_path: ../../data/train.csv\n",
      "  cloth_path: ../../data/clothing_master.csv\n",
      "  test_path: ../../data/test.csv\n",
      "  sample_submission_path: ../../data/sample_submission.csv\n",
      "  results_dir: ../../results/001/base\n",
      "seed: 42\n",
      "n_splits: 5\n",
      "target: Recommended IND\n",
      "\n"
     ]
    }
   ],
   "source": [
    "import pprint\n",
    "import time\n",
    "from pathlib import Path\n",
    "\n",
    "import lightgbm as lgb\n",
    "import numpy as np\n",
    "import pandas as pd\n",
    "import polars as pl\n",
    "import seaborn as sns\n",
    "from hydra import compose, initialize\n",
    "from matplotlib import pyplot as plt\n",
    "from omegaconf import OmegaConf\n",
    "from sklearn.model_selection import StratifiedKFold\n",
    "from sklearn.preprocessing import LabelEncoder\n",
    "from src.groupkfold import GroupKFoldWithSeed\n",
    "from src.seed import seed_everything\n",
    "\n",
    "with initialize(config_path=\"config\", version_base=None):\n",
    "    cfg = compose(config_name=\"config\")\n",
    "    cfg.exp_number = Path().resolve().name\n",
    "\n",
    "print(OmegaConf.to_yaml(cfg, resolve=True))\n",
    "\n",
    "seed_everything(cfg.seed)\n"
   ]
  },
  {
   "cell_type": "markdown",
   "metadata": {},
   "source": [
    "### Import"
   ]
  },
  {
   "cell_type": "code",
   "execution_count": 2,
   "metadata": {},
   "outputs": [],
   "source": [
    "train_df = pl.read_csv(cfg.data.train_path, try_parse_dates=True)\n",
    "cloth_df = pl.read_csv(cfg.data.cloth_path, try_parse_dates=True)\n",
    "test_df = pl.read_csv(cfg.data.test_path, try_parse_dates=True)\n",
    "\n",
    "train_df = train_df.join(cloth_df, on=\"Clothing ID\", how=\"left\")\n",
    "test_df = test_df.join(cloth_df, on=\"Clothing ID\", how=\"left\")\n",
    "\n",
    "skf = StratifiedKFold(n_splits=cfg.n_splits, shuffle=True, random_state=cfg.seed)\n"
   ]
  },
  {
   "cell_type": "code",
   "execution_count": 3,
   "metadata": {},
   "outputs": [],
   "source": [
    "# ラベルエンコーディング\n",
    "\n",
    "le_division_name = LabelEncoder()\n",
    "le_division_name.fit(cloth_df[\"Division Name\"])\n",
    "train_df = train_df.with_columns(\n",
    "    pl.Series(le_division_name.transform(train_df[\"Division Name\"])).alias(\"Division Name\")\n",
    ")\n",
    "test_df = test_df.with_columns(pl.Series(le_division_name.transform(test_df[\"Division Name\"])).alias(\"Division Name\"))\n",
    "\n",
    "le_department_name = LabelEncoder()\n",
    "le_department_name.fit(cloth_df[\"Department Name\"])\n",
    "train_df = train_df.with_columns(\n",
    "    pl.Series(le_department_name.transform(train_df[\"Department Name\"])).alias(\"Department Name\")\n",
    ")\n",
    "test_df = test_df.with_columns(\n",
    "    pl.Series(le_department_name.transform(test_df[\"Department Name\"])).alias(\"Department Name\")\n",
    ")\n",
    "\n",
    "le_class_name = LabelEncoder()\n",
    "le_class_name.fit(cloth_df[\"Class Name\"])\n",
    "train_df = train_df.with_columns(pl.Series(le_class_name.transform(train_df[\"Class Name\"])).alias(\"Class Name\"))\n",
    "test_df = test_df.with_columns(pl.Series(le_class_name.transform(test_df[\"Class Name\"])).alias(\"Class Name\"))\n"
   ]
  },
  {
   "cell_type": "code",
   "execution_count": 4,
   "metadata": {},
   "outputs": [
    {
     "data": {
      "text/html": [
       "<div><style>\n",
       ".dataframe > thead > tr,\n",
       ".dataframe > tbody > tr {\n",
       "  text-align: right;\n",
       "  white-space: pre-wrap;\n",
       "}\n",
       "</style>\n",
       "<small>shape: (5, 10)</small><table border=\"1\" class=\"dataframe\"><thead><tr><th>Clothing ID</th><th>Age</th><th>Title</th><th>Review Text</th><th>Rating</th><th>Recommended IND</th><th>Positive Feedback Count</th><th>Division Name</th><th>Department Name</th><th>Class Name</th></tr><tr><td>i64</td><td>i64</td><td>str</td><td>str</td><td>i64</td><td>i64</td><td>i64</td><td>i64</td><td>i64</td><td>i64</td></tr></thead><tbody><tr><td>0</td><td>25</td><td>&quot;3-season skirt!&quot;</td><td>&quot;Adorable, well-made skirt! lin…</td><td>5</td><td>1</td><td>4</td><td>0</td><td>0</td><td>12</td></tr><tr><td>0</td><td>39</td><td>&quot;Very cute&quot;</td><td>&quot;Love the asymmetrical hem. wai…</td><td>5</td><td>1</td><td>0</td><td>0</td><td>0</td><td>12</td></tr><tr><td>0</td><td>42</td><td>&quot;Beautiful! fruns small for typ…</td><td>&quot;I love this skirt! i wasn&#x27;t su…</td><td>5</td><td>1</td><td>5</td><td>0</td><td>0</td><td>12</td></tr><tr><td>0</td><td>45</td><td>null</td><td>&quot;I was really pleased with this…</td><td>5</td><td>1</td><td>9</td><td>0</td><td>0</td><td>12</td></tr><tr><td>0</td><td>57</td><td>&quot;Unique, pretty asymmetric skir…</td><td>&quot;I saw this skirt in retailer s…</td><td>5</td><td>1</td><td>1</td><td>0</td><td>0</td><td>12</td></tr></tbody></table></div>"
      ],
      "text/plain": [
       "shape: (5, 10)\n",
       "┌─────────────┬─────┬─────────────┬─────────────┬───┬────────────┬────────────┬────────────┬───────┐\n",
       "│ Clothing ID ┆ Age ┆ Title       ┆ Review Text ┆ … ┆ Positive   ┆ Division   ┆ Department ┆ Class │\n",
       "│ ---         ┆ --- ┆ ---         ┆ ---         ┆   ┆ Feedback   ┆ Name       ┆ Name       ┆ Name  │\n",
       "│ i64         ┆ i64 ┆ str         ┆ str         ┆   ┆ Count      ┆ ---        ┆ ---        ┆ ---   │\n",
       "│             ┆     ┆             ┆             ┆   ┆ ---        ┆ i64        ┆ i64        ┆ i64   │\n",
       "│             ┆     ┆             ┆             ┆   ┆ i64        ┆            ┆            ┆       │\n",
       "╞═════════════╪═════╪═════════════╪═════════════╪═══╪════════════╪════════════╪════════════╪═══════╡\n",
       "│ 0           ┆ 25  ┆ 3-season    ┆ Adorable,   ┆ … ┆ 4          ┆ 0          ┆ 0          ┆ 12    │\n",
       "│             ┆     ┆ skirt!      ┆ well-made   ┆   ┆            ┆            ┆            ┆       │\n",
       "│             ┆     ┆             ┆ skirt! lin… ┆   ┆            ┆            ┆            ┆       │\n",
       "│ 0           ┆ 39  ┆ Very cute   ┆ Love the    ┆ … ┆ 0          ┆ 0          ┆ 0          ┆ 12    │\n",
       "│             ┆     ┆             ┆ asymmetrica ┆   ┆            ┆            ┆            ┆       │\n",
       "│             ┆     ┆             ┆ l hem. wai… ┆   ┆            ┆            ┆            ┆       │\n",
       "│ 0           ┆ 42  ┆ Beautiful!  ┆ I love this ┆ … ┆ 5          ┆ 0          ┆ 0          ┆ 12    │\n",
       "│             ┆     ┆ fruns small ┆ skirt! i    ┆   ┆            ┆            ┆            ┆       │\n",
       "│             ┆     ┆ for typ…    ┆ wasn't su…  ┆   ┆            ┆            ┆            ┆       │\n",
       "│ 0           ┆ 45  ┆ null        ┆ I was       ┆ … ┆ 9          ┆ 0          ┆ 0          ┆ 12    │\n",
       "│             ┆     ┆             ┆ really      ┆   ┆            ┆            ┆            ┆       │\n",
       "│             ┆     ┆             ┆ pleased     ┆   ┆            ┆            ┆            ┆       │\n",
       "│             ┆     ┆             ┆ with this…  ┆   ┆            ┆            ┆            ┆       │\n",
       "│ 0           ┆ 57  ┆ Unique,     ┆ I saw this  ┆ … ┆ 1          ┆ 0          ┆ 0          ┆ 12    │\n",
       "│             ┆     ┆ pretty      ┆ skirt in    ┆   ┆            ┆            ┆            ┆       │\n",
       "│             ┆     ┆ asymmetric  ┆ retailer s… ┆   ┆            ┆            ┆            ┆       │\n",
       "│             ┆     ┆ skir…       ┆             ┆   ┆            ┆            ┆            ┆       │\n",
       "└─────────────┴─────┴─────────────┴─────────────┴───┴────────────┴────────────┴────────────┴───────┘"
      ]
     },
     "metadata": {},
     "output_type": "display_data"
    },
    {
     "data": {
      "text/html": [
       "<div><style>\n",
       ".dataframe > thead > tr,\n",
       ".dataframe > tbody > tr {\n",
       "  text-align: right;\n",
       "  white-space: pre-wrap;\n",
       "}\n",
       "</style>\n",
       "<small>shape: (5, 8)</small><table border=\"1\" class=\"dataframe\"><thead><tr><th>Clothing ID</th><th>Age</th><th>Title</th><th>Review Text</th><th>Positive Feedback Count</th><th>Division Name</th><th>Department Name</th><th>Class Name</th></tr><tr><td>i64</td><td>i64</td><td>str</td><td>str</td><td>i64</td><td>i64</td><td>i64</td><td>i64</td></tr></thead><tbody><tr><td>0</td><td>32</td><td>&quot;So happy i bought this skirt!&quot;</td><td>&quot;I love this skirt. it does run…</td><td>0</td><td>0</td><td>0</td><td>12</td></tr><tr><td>0</td><td>34</td><td>&quot;Runs small&quot;</td><td>&quot;Beautiful patterns and colors,…</td><td>0</td><td>0</td><td>0</td><td>12</td></tr><tr><td>0</td><td>37</td><td>&quot;Love the comfort of thi skirt&quot;</td><td>&quot;It is easily paired with a nic…</td><td>0</td><td>0</td><td>0</td><td>12</td></tr><tr><td>0</td><td>39</td><td>&quot;Way too small&quot;</td><td>&quot;This is a beautiful skirt, but…</td><td>10</td><td>0</td><td>0</td><td>12</td></tr><tr><td>0</td><td>39</td><td>null</td><td>&quot;I usually wear a size 8/10 and…</td><td>0</td><td>0</td><td>0</td><td>12</td></tr></tbody></table></div>"
      ],
      "text/plain": [
       "shape: (5, 8)\n",
       "┌─────────────┬─────┬─────────────┬────────────┬────────────┬────────────┬────────────┬────────────┐\n",
       "│ Clothing ID ┆ Age ┆ Title       ┆ Review     ┆ Positive   ┆ Division   ┆ Department ┆ Class Name │\n",
       "│ ---         ┆ --- ┆ ---         ┆ Text       ┆ Feedback   ┆ Name       ┆ Name       ┆ ---        │\n",
       "│ i64         ┆ i64 ┆ str         ┆ ---        ┆ Count      ┆ ---        ┆ ---        ┆ i64        │\n",
       "│             ┆     ┆             ┆ str        ┆ ---        ┆ i64        ┆ i64        ┆            │\n",
       "│             ┆     ┆             ┆            ┆ i64        ┆            ┆            ┆            │\n",
       "╞═════════════╪═════╪═════════════╪════════════╪════════════╪════════════╪════════════╪════════════╡\n",
       "│ 0           ┆ 32  ┆ So happy i  ┆ I love     ┆ 0          ┆ 0          ┆ 0          ┆ 12         │\n",
       "│             ┆     ┆ bought this ┆ this       ┆            ┆            ┆            ┆            │\n",
       "│             ┆     ┆ skirt!      ┆ skirt. it  ┆            ┆            ┆            ┆            │\n",
       "│             ┆     ┆             ┆ does run…  ┆            ┆            ┆            ┆            │\n",
       "│ 0           ┆ 34  ┆ Runs small  ┆ Beautiful  ┆ 0          ┆ 0          ┆ 0          ┆ 12         │\n",
       "│             ┆     ┆             ┆ patterns   ┆            ┆            ┆            ┆            │\n",
       "│             ┆     ┆             ┆ and        ┆            ┆            ┆            ┆            │\n",
       "│             ┆     ┆             ┆ colors,…   ┆            ┆            ┆            ┆            │\n",
       "│ 0           ┆ 37  ┆ Love the    ┆ It is      ┆ 0          ┆ 0          ┆ 0          ┆ 12         │\n",
       "│             ┆     ┆ comfort of  ┆ easily     ┆            ┆            ┆            ┆            │\n",
       "│             ┆     ┆ thi skirt   ┆ paired     ┆            ┆            ┆            ┆            │\n",
       "│             ┆     ┆             ┆ with a     ┆            ┆            ┆            ┆            │\n",
       "│             ┆     ┆             ┆ nic…       ┆            ┆            ┆            ┆            │\n",
       "│ 0           ┆ 39  ┆ Way too     ┆ This is a  ┆ 10         ┆ 0          ┆ 0          ┆ 12         │\n",
       "│             ┆     ┆ small       ┆ beautiful  ┆            ┆            ┆            ┆            │\n",
       "│             ┆     ┆             ┆ skirt,     ┆            ┆            ┆            ┆            │\n",
       "│             ┆     ┆             ┆ but…       ┆            ┆            ┆            ┆            │\n",
       "│ 0           ┆ 39  ┆ null        ┆ I usually  ┆ 0          ┆ 0          ┆ 0          ┆ 12         │\n",
       "│             ┆     ┆             ┆ wear a     ┆            ┆            ┆            ┆            │\n",
       "│             ┆     ┆             ┆ size 8/10  ┆            ┆            ┆            ┆            │\n",
       "│             ┆     ┆             ┆ and…       ┆            ┆            ┆            ┆            │\n",
       "└─────────────┴─────┴─────────────┴────────────┴────────────┴────────────┴────────────┴────────────┘"
      ]
     },
     "metadata": {},
     "output_type": "display_data"
    }
   ],
   "source": [
    "display(train_df.head())\n",
    "display(test_df.head())\n"
   ]
  },
  {
   "cell_type": "markdown",
   "metadata": {},
   "source": [
    "### 学習"
   ]
  },
  {
   "cell_type": "code",
   "execution_count": 5,
   "metadata": {},
   "outputs": [
    {
     "name": "stdout",
     "output_type": "stream",
     "text": [
      "Training until validation scores don't improve for 100 rounds\n",
      "[100]\tcv_agg's valid auc: 0.584908 + 0.0122912\n",
      "[200]\tcv_agg's valid auc: 0.587249 + 0.0124249\n",
      "[300]\tcv_agg's valid auc: 0.588479 + 0.0116917\n",
      "[400]\tcv_agg's valid auc: 0.588671 + 0.0118737\n",
      "[500]\tcv_agg's valid auc: 0.589718 + 0.0114833\n",
      "Early stopping, best iteration is:\n",
      "[482]\tcv_agg's valid auc: 0.589966 + 0.0115969\n"
     ]
    },
    {
     "data": {
      "text/plain": [
       "<lightgbm.engine.CVBooster at 0x14afad0d0>"
      ]
     },
     "execution_count": 5,
     "metadata": {},
     "output_type": "execute_result"
    }
   ],
   "source": [
    "x_train = train_df.drop([cfg.target, \"Rating\", \"Title\", \"Review Text\"]).to_pandas()\n",
    "y_train = train_df[cfg.target].to_pandas()\n",
    "\n",
    "# 実験結果格納用のディレクトリを作成\n",
    "cfg.run_name = time.strftime(\"%Y%m%d_%H%M%S\")\n",
    "Path(cfg.data.results_dir).mkdir(exist_ok=True, parents=True)\n",
    "\n",
    "# 学習設定\n",
    "lgb_data = lgb.Dataset(\n",
    "    x_train,\n",
    "    label=y_train,\n",
    "    # categorical_feature=x_train.select_dtypes(include=[\"category\"]).columns.tolist(),\n",
    "    free_raw_data=True,\n",
    ")\n",
    "callbacks = [\n",
    "    lgb.early_stopping(stopping_rounds=cfg.lgb.early_stopping_rounds),\n",
    "    lgb.log_evaluation(cfg.lgb.log_evaluation),\n",
    "]\n",
    "\n",
    "# 学習\n",
    "cv_results = lgb.cv(\n",
    "    dict(cfg.lgb.params),\n",
    "    lgb_data,\n",
    "    folds=skf.split(x_train, y_train),\n",
    "    num_boost_round=cfg.lgb.num_boost_round,\n",
    "    callbacks=callbacks,\n",
    "    return_cvbooster=True,\n",
    "    stratified=False,\n",
    "    seed=cfg.seed,\n",
    ")\n",
    "\n",
    "# 学習モデル保存\n",
    "cvbooster = cv_results[\"cvbooster\"]\n",
    "cvbooster.save_model(f\"{cfg.data.results_dir}/model.pkl\")\n"
   ]
  },
  {
   "cell_type": "markdown",
   "metadata": {},
   "source": [
    "### log"
   ]
  },
  {
   "cell_type": "code",
   "execution_count": 7,
   "metadata": {},
   "outputs": [],
   "source": [
    "best_iteration = cvbooster.best_iteration\n",
    "best_score = cv_results[\"valid auc-mean\"][best_iteration - 1]\n",
    "best_score_stdv = cv_results[\"valid auc-stdv\"][best_iteration - 1]\n",
    "\n",
    "with open(f\"{cfg.data.results_dir}/log.txt\", \"w\") as log_file:\n",
    "    log_file.write(\"====== CV Score ======\\n\")\n",
    "    log_file.write(f\"best_iteration: {best_iteration}\\n\")\n",
    "    log_file.write(f\"best_score (auc): {best_score}\\n\")\n",
    "    log_file.write(f\"best_score_stdv (auc): {best_score_stdv}\\n\")\n",
    "\n",
    "    log_file.write(\"\\n====== params ======\\n\")\n",
    "    log_file.write(OmegaConf.to_yaml(cfg, resolve=True))\n",
    "\n",
    "    log_file.write(\"\\n====== feature name ======\\n\")\n",
    "    log_file.write(pprint.pformat(cvbooster.feature_name()[0]))\n"
   ]
  },
  {
   "cell_type": "markdown",
   "metadata": {},
   "source": [
    "### Feature Importance"
   ]
  },
  {
   "cell_type": "code",
   "execution_count": 8,
   "metadata": {},
   "outputs": [
    {
     "data": {
      "image/png": "[encoded data removed]",
      "text/plain": [
       "<Figure size 1200x300 with 1 Axes>"
      ]
     },
     "metadata": {},
     "output_type": "display_data"
    }
   ],
   "source": [
    "# 学習済みモデルから特徴量の重要度を取り出す\n",
    "raw_importances = cvbooster.feature_importance(importance_type=\"gain\")\n",
    "importance_df = pd.DataFrame(data=raw_importances, columns=cvbooster.feature_name()[0])\n",
    "\n",
    "# 平均値でソートする\n",
    "sorted_indices = importance_df.mean(axis=0).sort_values(ascending=False).index\n",
    "sorted_importance_df = importance_df.loc[:, sorted_indices]\n",
    "\n",
    "# 上位をプロット -> 保存\n",
    "plot_cols = sorted_importance_df.columns[:50]\n",
    "fig, ax = plt.subplots(figsize=(12, max(3, len(plot_cols) * 0.15)))\n",
    "sns.boxplot(data=sorted_importance_df[plot_cols], orient=\"h\", ax=ax)\n",
    "ax.grid()\n",
    "ax.set_title(\"feature importance\")\n",
    "fig.tight_layout()\n",
    "plt.show()\n",
    "fig.savefig(f\"{cfg.data.results_dir}/feature_importance.png\")\n"
   ]
  },
  {
   "cell_type": "markdown",
   "metadata": {},
   "source": [
    "### oof"
   ]
  },
  {
   "cell_type": "code",
   "execution_count": 9,
   "metadata": {},
   "outputs": [
    {
     "data": {
      "image/png": "[encoded data removed]",
      "text/plain": [
       "<Figure size 1200x500 with 1 Axes>"
      ]
     },
     "metadata": {},
     "output_type": "display_data"
    }
   ],
   "source": [
    "oof = np.zeros(len(x_train))\n",
    "\n",
    "# 各fold毎に推論してoofを作成\n",
    "for i, (_, valid_idx) in enumerate(skf.split(x_train, y_train)):\n",
    "    x_valid = x_train.iloc[valid_idx]\n",
    "    model = cvbooster.boosters[i]\n",
    "    y_pred = model.predict(x_valid, num_iteration=cvbooster.best_iteration)\n",
    "    oof[valid_idx] = y_pred\n",
    "\n",
    "oof_df = pd.DataFrame({\"oof\": oof})\n",
    "oof_df.to_csv(f\"{cfg.data.results_dir}/oof.csv\", index=False)\n",
    "\n",
    "fig, ax = plt.subplots(figsize=(12, 5))\n",
    "sns.histplot(y_train, bins=50)\n",
    "sns.histplot(oof, bins=50)\n",
    "plt.legend([\"true\", \"oof\"])\n",
    "plt.show()\n",
    "fig.savefig(f\"{cfg.data.results_dir}/oof_hist.png\")\n"
   ]
  },
  {
   "cell_type": "markdown",
   "metadata": {},
   "source": [
    "### Submission"
   ]
  },
  {
   "cell_type": "code",
   "execution_count": 10,
   "metadata": {},
   "outputs": [
    {
     "data": {
      "text/html": [
       "<div>\n",
       "<style scoped>\n",
       "    .dataframe tbody tr th:only-of-type {\n",
       "        vertical-align: middle;\n",
       "    }\n",
       "\n",
       "    .dataframe tbody tr th {\n",
       "        vertical-align: top;\n",
       "    }\n",
       "\n",
       "    .dataframe thead th {\n",
       "        text-align: right;\n",
       "    }\n",
       "</style>\n",
       "<table border=\"1\" class=\"dataframe\">\n",
       "  <thead>\n",
       "    <tr style=\"text-align: right;\">\n",
       "      <th></th>\n",
       "      <th>target</th>\n",
       "    </tr>\n",
       "  </thead>\n",
       "  <tbody>\n",
       "    <tr>\n",
       "      <th>0</th>\n",
       "      <td>0.873447</td>\n",
       "    </tr>\n",
       "    <tr>\n",
       "      <th>1</th>\n",
       "      <td>0.886798</td>\n",
       "    </tr>\n",
       "    <tr>\n",
       "      <th>2</th>\n",
       "      <td>0.891018</td>\n",
       "    </tr>\n",
       "    <tr>\n",
       "      <th>3</th>\n",
       "      <td>0.787781</td>\n",
       "    </tr>\n",
       "    <tr>\n",
       "      <th>4</th>\n",
       "      <td>0.897726</td>\n",
       "    </tr>\n",
       "  </tbody>\n",
       "</table>\n",
       "</div>"
      ],
      "text/plain": [
       "     target\n",
       "0  0.873447\n",
       "1  0.886798\n",
       "2  0.891018\n",
       "3  0.787781\n",
       "4  0.897726"
      ]
     },
     "execution_count": 10,
     "metadata": {},
     "output_type": "execute_result"
    }
   ],
   "source": [
    "# 推論\n",
    "x_test = test_df.drop([\"Title\", \"Review Text\"]).to_pandas()\n",
    "y_preds = cvbooster.predict(x_test, num_iteration=cvbooster.best_iteration)\n",
    "y_pred = np.mean(y_preds, axis=0)\n",
    "\n",
    "# 提出用ファイル作成\n",
    "sub_df = pd.read_csv(cfg.data.sample_submission_path)\n",
    "sub_df[\"target\"] = y_pred\n",
    "sub_df.to_csv(f\"{cfg.data.results_dir}/{cfg.run_name}_submission.csv\", index=False)\n",
    "sub_df.head()\n"
   ]
  }
 ],
 "metadata": {
  "kernelspec": {
   "display_name": ".venv",
   "language": "python",
   "name": "python3"
  },
  "language_info": {
   "codemirror_mode": {
    "name": "ipython",
    "version": 3
   },
   "file_extension": ".py",
   "mimetype": "text/x-python",
   "name": "python",
   "nbconvert_exporter": "python",
   "pygments_lexer": "ipython3",
   "version": "3.12.3"
  }
 },
 "nbformat": 4,
 "nbformat_minor": 2
}
